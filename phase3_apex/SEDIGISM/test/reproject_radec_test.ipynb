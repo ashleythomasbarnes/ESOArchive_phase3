{
 "cells": [
  {
   "cell_type": "code",
   "execution_count": 1,
   "metadata": {},
   "outputs": [
    {
     "name": "stdout",
     "output_type": "stream",
     "text": [
      "Intel MKL WARNING: Support of Intel(R) Streaming SIMD Extensions 4.2 (Intel(R) SSE4.2) enabled only processors has been deprecated. Intel oneAPI Math Kernel Library 2025.0 will require Intel(R) Advanced Vector Extensions (Intel(R) AVX) instructions.\n",
      "Intel MKL WARNING: Support of Intel(R) Streaming SIMD Extensions 4.2 (Intel(R) SSE4.2) enabled only processors has been deprecated. Intel oneAPI Math Kernel Library 2025.0 will require Intel(R) Advanced Vector Extensions (Intel(R) AVX) instructions.\n"
     ]
    }
   ],
   "source": [
    "from astropy.io import fits\n",
    "from reproject.mosaicking import find_optimal_celestial_wcs\n",
    "from reproject import reproject_interp\n",
    "from spectral_cube import SpectralCube"
   ]
  },
  {
   "cell_type": "code",
   "execution_count": 2,
   "metadata": {},
   "outputs": [],
   "source": [
    "input_file = 'G301_HC3N_Tmb_DR1.fits'\n",
    "output_file = 'test.fits'\n",
    "\n",
    "cube = SpectralCube.read(input_file)\n",
    "slice = cube[0:10]\n",
    "slice.write(output_file, overwrite=True)"
   ]
  },
  {
   "cell_type": "code",
   "execution_count": 14,
   "metadata": {},
   "outputs": [],
   "source": [
    "input_file = 'test.fits'\n",
    "output_file = 'test_reprojected.fits'\n",
    "\n",
    "hdu = fits.open(input_file)[0]\n",
    "\n",
    "def check_if_fk5(hdu):\n",
    "    if ('RA' in hdu.header['CTYPE1']) & ('DEC' in hdu.header['CTYPE2']):\n",
    "        return True\n",
    "    else:\n",
    "        return False\n",
    "\n",
    "def convert_fk5(hdu):\n",
    "\n",
    "    print('Converting to FK5...')\n",
    "\n",
    "    hdr = hdu.header\n",
    "    hdu_2d = hdu.copy()\n",
    "    hdu_2d.data = hdu_2d.data[0, :, :]\n",
    "    hdu_2d.header['NAXIS'] = 2\n",
    "    hdu_2d.header['WCSAXES'] = 2\n",
    "    del hdu_2d.header['*3*']\n",
    "\n",
    "    wcs_out, shape_out = find_optimal_celestial_wcs(hdu_2d, frame='fk5', auto_rotate=True, projection='GLS')\n",
    "    # wcs_out, shape_out = find_optimal_celestial_wcs(hdu_2d, frame='fk5')\n",
    "\n",
    "    hdr_out_ = wcs_out.to_header()\n",
    "\n",
    "    hdr_out = hdr.copy()\n",
    "    for key in ['CRPIX1', 'CRPIX2', 'PC1_1', 'PC1_2', 'PC2_1', 'PC2_2', 'CDELT1', 'CDELT2', \n",
    "                'CUNIT1', 'CUNIT2', 'CTYPE1', 'CTYPE2', 'CRVAL1', 'CRVAL2', 'LONPOLE', 'LATPOLE', \n",
    "                'RADESYS', 'EQUINOX']:\n",
    "        try: \n",
    "            hdr_out[key] = hdr_out_[key]\n",
    "        except: \n",
    "            print('Key not found:', key)\n",
    "            continue\n",
    "    del hdr_out['*PV*']\n",
    "\n",
    "    array_out = reproject_interp(hdu, hdr_out, return_footprint=False)\n",
    "\n",
    "    hdu_out = fits.PrimaryHDU(array_out, header=hdr_out)\n",
    "\n",
    "    cube = SpectralCube.read(hdu_out)\n",
    "    # cube.write(output_file, overwrite=True)\n",
    "\n",
    "    return cube.hdu\n",
    "\n",
    "if check_if_fk5(hdu):\n",
    "    hdu = convert_fk5(hdu)"
   ]
  },
  {
   "cell_type": "code",
   "execution_count": 16,
   "metadata": {},
   "outputs": [
    {
     "data": {
      "text/plain": [
       "SIMPLE  =                    T / conforms to FITS standard                      \n",
       "BITPIX  =                  -32 / array data type                                \n",
       "NAXIS   =                    3 / number of array dimensions                     \n",
       "NAXIS1  =                  775                                                  \n",
       "NAXIS2  =                  398                                                  \n",
       "NAXIS3  =                   10                                                  \n",
       "DATAMIN = -0.1285860633850E+02         /                                        \n",
       "DATAMAX =  0.1389085769653E+02         /                                        \n",
       "BUNIT   = 'K       '           / Tmb                                            \n",
       "OBJECT  = 'G301        '               /                                        \n",
       "GLAT    =  0.3010000000000E+03         / Galactic latitude                      \n",
       "GLON    =  0.0000000000000E+00         / Galactic longitude                     \n",
       "EQUINOX =  0.2000000000000E+04         /                                        \n",
       "LINE    = 'HC3N        '               /                                        \n",
       "ALTRPIX =  0.4010000000000E+03         /                                        \n",
       "ALTRVAL =  0.2183248000000E+12         /                                        \n",
       "RESTFREQ=  0.2183248000000E+12         /                                        \n",
       "IMAGFREQ=  0.2316753108470E+12         /                                        \n",
       "VELO-LSR=  0.0000000000000E+00         /                                        \n",
       "VELREF  =                  257         /                                        \n",
       "BMAJ    =  0.8431326621275E-02         /                                        \n",
       "BMIN    =  0.8431326621275E-02         /                                        \n",
       "BPA     =  0.0000000000000E+00         /                                        \n",
       "ORIGIN  = 'GILDAS Consortium  '        /                                        \n",
       "DATE    = '2019-12-18T21:11:33.141'    / Date written                           \n",
       "CREATOR = 'SEDIGISM Consortium'                                                 \n",
       "REDUCE  = 'CLASS pipeline - version v3 082016'                                  \n",
       "GRID    = 'gridding pipeline without plait v1'                                  \n",
       "RELEASE = 'DR1     '                                                            \n",
       "TELESCOP= 'APEX    '                                                            \n",
       "RECEIVER= 'SHeFi-1 '                                                            \n",
       "PRODCATG= 'SCIENCE.CUBE'                                                        \n",
       "CHECKSUM= 'hcKdkZHZhaHbhYHZ'   / HDU checksum updated 2025-02-13T13:51:18       \n",
       "DATASUM = '314874976'          / data unit checksum updated 2025-02-13T13:51:18 \n",
       "BEAM    = 'Beam: BMAJ=30.35277583659 arcsec BMIN=30.35277583659 arcsec &'       \n",
       "CONTINUE  'BPA=0.0 deg'                                                         \n",
       "SLICE   = '[[(0, 10, None), (None, None, None), (None, None, None)]]'           \n",
       "WCSAXES =                    3 / Number of coordinate axes                      \n",
       "CRPIX1  =       388.3055184092 / Pixel coordinate of reference point            \n",
       "CRPIX2  =       199.7159158031 / Pixel coordinate of reference point            \n",
       "CRPIX3  =                401.0 / Pixel coordinate of reference point            \n",
       "CDELT1  =   -0.002638888859183 / [deg] Coordinate increment at reference point  \n",
       "CDELT2  =    0.002638888859183 / [deg] Coordinate increment at reference point  \n",
       "CDELT3  =                500.0 / [m/s] Coordinate increment at reference point  \n",
       "CUNIT1  = 'deg'                / Units of coordinate increment and value        \n",
       "CUNIT2  = 'deg'                / Units of coordinate increment and value        \n",
       "CUNIT3  = 'm/s'                / Units of coordinate increment and value        \n",
       "CTYPE1  = 'GLON-SFL'           / Galactic longitude, Sanson-Flamsteed projection\n",
       "CTYPE2  = 'GLAT-SFL'           / Galactic latitude, Sanson-Flamsteed projection \n",
       "CTYPE3  = 'VRAD'               / Radio velocity (linear)                        \n",
       "CRVAL1  =                301.0 / [deg] Coordinate value at reference point      \n",
       "CRVAL2  =                  0.0 / [deg] Coordinate value at reference point      \n",
       "CRVAL3  =                  0.0 / [m/s] Coordinate value at reference point      \n",
       "PV1_0   =                  1.0 / [m/s] Coordinate value at reference point      \n",
       "PV1_1   =                  0.0 / [deg] Native longitude of the reference point  \n",
       "PV1_2   =                  0.0 / [deg] Native latitude  of the reference point  \n",
       "LONPOLE =                  0.0 / [deg] Native longitude of celestial pole       \n",
       "LATPOLE =                 90.0 / [deg] Native latitude of celestial pole        \n",
       "RESTFRQ =       218324800000.0 / [Hz] Line rest frequency                       \n",
       "MJDREF  =                  0.0 / [d] MJD of fiducial time                       \n",
       "SPECSYS = 'LSRK'               / Reference frame of spectral coordinates        \n",
       "HISTORY Written by spectral_cube v0.6.5 on 2025/02/24-12:05:25                  "
      ]
     },
     "execution_count": 16,
     "metadata": {},
     "output_type": "execute_result"
    }
   ],
   "source": [
    "hdu.header"
   ]
  },
  {
   "cell_type": "code",
   "execution_count": null,
   "metadata": {},
   "outputs": [],
   "source": []
  }
 ],
 "metadata": {
  "kernelspec": {
   "display_name": "python3p10",
   "language": "python",
   "name": "python3"
  },
  "language_info": {
   "codemirror_mode": {
    "name": "ipython",
    "version": 3
   },
   "file_extension": ".py",
   "mimetype": "text/x-python",
   "name": "python",
   "nbconvert_exporter": "python",
   "pygments_lexer": "ipython3",
   "version": "3.10.15"
  }
 },
 "nbformat": 4,
 "nbformat_minor": 2
}
