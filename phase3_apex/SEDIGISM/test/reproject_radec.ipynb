{
 "cells": [
  {
   "cell_type": "code",
   "execution_count": 2,
   "metadata": {},
   "outputs": [
    {
     "name": "stdout",
     "output_type": "stream",
     "text": [
      "Intel MKL WARNING: Support of Intel(R) Streaming SIMD Extensions 4.2 (Intel(R) SSE4.2) enabled only processors has been deprecated. Intel oneAPI Math Kernel Library 2025.0 will require Intel(R) Advanced Vector Extensions (Intel(R) AVX) instructions.\n",
      "Intel MKL WARNING: Support of Intel(R) Streaming SIMD Extensions 4.2 (Intel(R) SSE4.2) enabled only processors has been deprecated. Intel oneAPI Math Kernel Library 2025.0 will require Intel(R) Advanced Vector Extensions (Intel(R) AVX) instructions.\n"
     ]
    }
   ],
   "source": [
    "from astropy.io import fits\n",
    "from reproject.mosaicking import find_optimal_celestial_wcs\n",
    "from reproject import reproject_interp"
   ]
  },
  {
   "cell_type": "code",
   "execution_count": 12,
   "metadata": {},
   "outputs": [
    {
     "name": "stderr",
     "output_type": "stream",
     "text": [
      "WARNING: FITSFixedWarning: 'celfix' made the change 'Success'. [astropy.wcs.wcs]\n"
     ]
    }
   ],
   "source": [
    "input_file = 'G301_HC3N_Tmb_DR1.fits'\n",
    "\n",
    "hdu = fits.open(input_file)[0]\n",
    "data = hdu.data\n",
    "hdr = hdu.header\n",
    "\n",
    "hdu_2d = hdu.copy()\n",
    "hdu_2d.data = hdu_2d.data[0, :, :]\n",
    "hdu_2d.header['NAXIS'] = 2\n",
    "del hdu_2d.header['*3*']\n",
    "\n",
    "wcs_out, shape_out = find_optimal_celestial_wcs(hdu_2d, frame='fk5', auto_rotate=True)\n",
    "hdr_out_ = wcs_out.to_header()"
   ]
  },
  {
   "cell_type": "code",
   "execution_count": 13,
   "metadata": {},
   "outputs": [
    {
     "data": {
      "text/plain": [
       "SIMPLE  =                    T         /                                        \n",
       "BITPIX  =                  -32                                                  \n",
       "NAXIS   =                    3         /                                        \n",
       "NAXIS1  =                  775         /                                        \n",
       "NAXIS2  =                  398         /                                        \n",
       "NAXIS3  =                  801         /                                        \n",
       "DATAMIN = -0.1285860633850E+02         /                                        \n",
       "DATAMAX =  0.1389085769653E+02         /                                        \n",
       "BUNIT   = 'K       '           / Tmb                                            \n",
       "CTYPE1  = 'GLON-GLS    '               /                                        \n",
       "CRVAL1  =  0.3010000000000E+03         /                                        \n",
       "CDELT1  = -0.2638888859183E-02         /                                        \n",
       "CRPIX1  =  0.3883055184092E+03         /                                        \n",
       "CROTA1  =  0.0000000000000E+00         /                                        \n",
       "CTYPE2  = 'GLAT-GLS    '               /                                        \n",
       "CRVAL2  =  0.0000000000000E+00         /                                        \n",
       "CDELT2  =  0.2638888859183E-02         /                                        \n",
       "CRPIX2  =  0.1997159158031E+03         /                                        \n",
       "CROTA2  =  0.0000000000000E+00         /                                        \n",
       "CTYPE3  = 'VRAD        '               /                                        \n",
       "CRVAL3  =  0.0000000000000E+00         /                                        \n",
       "CDELT3  =  0.5000000000000E+03         /                                        \n",
       "CRPIX3  =  0.4010000000000E+03         /                                        \n",
       "CROTA3  =  0.0000000000000E+00         /                                        \n",
       "OBJECT  = 'G301        '               /                                        \n",
       "GLAT    =  0.3010000000000E+03         / Galactic latitude                      \n",
       "GLON    =  0.0000000000000E+00         / Galactic longitude                     \n",
       "EQUINOX =  0.2000000000000E+04         /                                        \n",
       "LINE    = 'HC3N        '               /                                        \n",
       "ALTRPIX =  0.4010000000000E+03         /                                        \n",
       "ALTRVAL =  0.2183248000000E+12         /                                        \n",
       "RESTFREQ=  0.2183248000000E+12         /                                        \n",
       "IMAGFREQ=  0.2316753108470E+12         /                                        \n",
       "VELO-LSR=  0.0000000000000E+00         /                                        \n",
       "VELREF  =                  257         /                                        \n",
       "SPECSYS = 'LSRK        '               /                                        \n",
       "BMAJ    =  0.8431326621275E-02         /                                        \n",
       "BMIN    =  0.8431326621275E-02         /                                        \n",
       "BPA     =  0.0000000000000E+00         /                                        \n",
       "ORIGIN  = 'GILDAS Consortium  '        /                                        \n",
       "DATE    = '2019-12-18T21:11:33.141'    / Date written                           \n",
       "CREATOR = 'SEDIGISM Consortium'                                                 \n",
       "REDUCE  = 'CLASS pipeline - version v3 082016'                                  \n",
       "GRID    = 'gridding pipeline without plait v1'                                  \n",
       "RELEASE = 'DR1     '                                                            \n",
       "TELESCOP= 'APEX    '                                                            \n",
       "RECEIVER= 'SHeFi-1 '                                                            \n",
       "PRODCATG= 'SCIENCE.CUBE'                                                        \n",
       "CHECKSUM= 'hcKdkZHZhaHbhYHZ'   / HDU checksum updated 2025-02-13T13:51:18       \n",
       "DATASUM = '314874976'          / data unit checksum updated 2025-02-13T13:51:18 "
      ]
     },
     "execution_count": 13,
     "metadata": {},
     "output_type": "execute_result"
    }
   ],
   "source": [
    "hdr"
   ]
  },
  {
   "cell_type": "code",
   "execution_count": 14,
   "metadata": {},
   "outputs": [
    {
     "data": {
      "text/plain": [
       "SIMPLE  =                    T         /                                        \n",
       "BITPIX  =                  -32                                                  \n",
       "NAXIS   =                    3         /                                        \n",
       "NAXIS1  =                  775         /                                        \n",
       "NAXIS2  =                  398         /                                        \n",
       "NAXIS3  =                  801         /                                        \n",
       "DATAMIN = -0.1285860633850E+02         /                                        \n",
       "DATAMAX =  0.1389085769653E+02         /                                        \n",
       "BUNIT   = 'K       '           / Tmb                                            \n",
       "CTYPE1  = 'RA---TAN'                                                            \n",
       "CRVAL1  =      188.62876662316                                                  \n",
       "CDELT1  = -0.2638888859183E-02         /                                        \n",
       "CRPIX1  =        388.363119179                                                  \n",
       "CROTA1  =  0.0000000000000E+00         /                                        \n",
       "CTYPE2  = 'DEC--TAN'                                                            \n",
       "CRVAL2  =     -62.808252392326                                                  \n",
       "CDELT2  =  0.2638888859183E-02         /                                        \n",
       "CRPIX2  =      199.75324160115                                                  \n",
       "CROTA2  =  0.0000000000000E+00         /                                        \n",
       "CTYPE3  = 'VRAD        '               /                                        \n",
       "CRVAL3  =  0.0000000000000E+00         /                                        \n",
       "CDELT3  =  0.5000000000000E+03         /                                        \n",
       "CRPIX3  =  0.4010000000000E+03         /                                        \n",
       "CROTA3  =  0.0000000000000E+00         /                                        \n",
       "OBJECT  = 'G301        '               /                                        \n",
       "GLAT    =  0.3010000000000E+03         / Galactic latitude                      \n",
       "GLON    =  0.0000000000000E+00         / Galactic longitude                     \n",
       "EQUINOX =  0.2000000000000E+04         /                                        \n",
       "LINE    = 'HC3N        '               /                                        \n",
       "ALTRPIX =  0.4010000000000E+03         /                                        \n",
       "ALTRVAL =  0.2183248000000E+12         /                                        \n",
       "RESTFREQ=  0.2183248000000E+12         /                                        \n",
       "IMAGFREQ=  0.2316753108470E+12         /                                        \n",
       "VELO-LSR=  0.0000000000000E+00         /                                        \n",
       "VELREF  =                  257         /                                        \n",
       "SPECSYS = 'LSRK        '               /                                        \n",
       "BMAJ    =  0.8431326621275E-02         /                                        \n",
       "BMIN    =  0.8431326621275E-02         /                                        \n",
       "BPA     =  0.0000000000000E+00         /                                        \n",
       "ORIGIN  = 'GILDAS Consortium  '        /                                        \n",
       "DATE    = '2019-12-18T21:11:33.141'    / Date written                           \n",
       "CREATOR = 'SEDIGISM Consortium'                                                 \n",
       "REDUCE  = 'CLASS pipeline - version v3 082016'                                  \n",
       "GRID    = 'gridding pipeline without plait v1'                                  \n",
       "RELEASE = 'DR1     '                                                            \n",
       "TELESCOP= 'APEX    '                                                            \n",
       "RECEIVER= 'SHeFi-1 '                                                            \n",
       "PRODCATG= 'SCIENCE.CUBE'                                                        \n",
       "CHECKSUM= 'hcKdkZHZhaHbhYHZ'   / HDU checksum updated 2025-02-13T13:51:18       \n",
       "DATASUM = '314874976'          / data unit checksum updated 2025-02-13T13:51:18 \n",
       "PC1_1   =     0.99784224748685                                                  \n",
       "PC1_2   =    -0.06565705697328                                                  \n",
       "PC2_1   =     0.06565705697328                                                  \n",
       "PC2_2   =     0.99784224748685                                                  \n",
       "CUNIT1  = 'deg     '                                                            \n",
       "CUNIT2  = 'deg     '                                                            \n",
       "LONPOLE =                180.0                                                  \n",
       "LATPOLE =     -62.808252392326                                                  \n",
       "RADESYS = 'FK5     '                                                            "
      ]
     },
     "execution_count": 14,
     "metadata": {},
     "output_type": "execute_result"
    }
   ],
   "source": [
    "hdr_out_\n",
    "hdr_out = hdr.copy()\n",
    "for key in ['CRPIX1', 'CRPIX2', 'PC1_1', 'PC1_2', 'PC2_1', 'PC2_2', 'CDELT1', 'CDELT2', 'CUNIT1', 'CUNIT2', 'CTYPE1', 'CTYPE2', 'CRVAL1', 'CRVAL2', 'LONPOLE', 'LATPOLE', 'RADESYS', 'EQUINOX']:\n",
    "    hdr_out[key] = hdr_out_[key]\n",
    "hdr_out"
   ]
  },
  {
   "cell_type": "code",
   "execution_count": null,
   "metadata": {},
   "outputs": [
    {
     "name": "stderr",
     "output_type": "stream",
     "text": [
      "WARNING: FITSFixedWarning: 'celfix' made the change 'Success'. [astropy.wcs.wcs]\n",
      "WARNING: No observer defined on WCS, SpectralCoord will be converted without any velocity frame change [astropy.wcs.wcsapi.fitswcs]\n"
     ]
    }
   ],
   "source": [
    "array = reproject_interp(hdu, hdr_out, return_footprint=False)"
   ]
  },
  {
   "cell_type": "code",
   "execution_count": null,
   "metadata": {},
   "outputs": [],
   "source": [
    "from astropy.io import fits\n",
    "from reproject.mosaicking import find_optimal_celestial_wcs\n",
    "from reproject import reproject_interp\n",
    "\n",
    "input_file = 'G301_HC3N_Tmb_DR1.fits'\n",
    "\n",
    "hdu = fits.open(input_file)[0]\n",
    "data = hdu.data\n",
    "hdr = hdu.header\n",
    "\n",
    "hdu_2d = hdu.copy()\n",
    "hdu_2d.data = hdu_2d.data[0, :, :]\n",
    "hdu_2d.header['NAXIS'] = 2\n",
    "del hdu_2d.header['*3*']\n",
    "\n",
    "wcs_out, shape_out = find_optimal_celestial_wcs(hdu_2d, frame='fk5', auto_rotate=True)\n",
    "hdr_out_ = wcs_out.to_header()\n",
    "\n",
    "hdr_out = hdr.copy()\n",
    "for key in ['CRPIX1', 'CRPIX2', 'PC1_1', 'PC1_2', 'PC2_1', 'PC2_2', 'CDELT1', 'CDELT2', 'CUNIT1', 'CUNIT2', 'CTYPE1', 'CTYPE2', 'CRVAL1', 'CRVAL2', 'LONPOLE', 'LATPOLE', 'RADESYS', 'EQUINOX']:\n",
    "    hdr_out[key] = hdr_out_[key]\n",
    "hdr_out\n",
    "\n",
    "array_out = reproject_interp(hdu, hdr_out, return_footprint=False)\n",
    "\n",
    "hdu_out = fits.PrimaryHDU(array_out, header=hdr_out)\n",
    "hdu_out.writeto('G301_HC3N_Tmb_DR1_reprojected.fits', overwrite=True)"
   ]
  },
  {
   "cell_type": "code",
   "execution_count": 5,
   "metadata": {},
   "outputs": [
    {
     "name": "stderr",
     "output_type": "stream",
     "text": [
      "WARNING: FITSFixedWarning: 'celfix' made the change 'Success'. [astropy.wcs.wcs]\n",
      "WARNING: FITSFixedWarning: 'celfix' made the change 'Success'. [astropy.wcs.wcs]\n",
      "WARNING: No observer defined on WCS, SpectralCoord will be converted without any velocity frame change [astropy.wcs.wcsapi.fitswcs]\n"
     ]
    },
    {
     "ename": "KeyboardInterrupt",
     "evalue": "",
     "output_type": "error",
     "traceback": [
      "\u001b[0;31m---------------------------------------------------------------------------\u001b[0m",
      "\u001b[0;31mKeyboardInterrupt\u001b[0m                         Traceback (most recent call last)",
      "Cell \u001b[0;32mIn[5], line 53\u001b[0m\n\u001b[1;32m     50\u001b[0m output_array \u001b[38;5;241m=\u001b[39m hdu_out[\u001b[38;5;241m0\u001b[39m]\u001b[38;5;241m.\u001b[39mdata\n\u001b[1;32m     52\u001b[0m \u001b[38;5;66;03m# Reproject using Dask\u001b[39;00m\n\u001b[0;32m---> 53\u001b[0m rslt \u001b[38;5;241m=\u001b[39m \u001b[43mreproject_interp\u001b[49m\u001b[43m(\u001b[49m\u001b[43mhdu\u001b[49m\u001b[43m,\u001b[49m\u001b[43m \u001b[49m\u001b[43mhdr_out\u001b[49m\u001b[43m,\u001b[49m\u001b[43m \u001b[49m\u001b[43moutput_array\u001b[49m\u001b[38;5;241;43m=\u001b[39;49m\u001b[43moutput_array\u001b[49m\u001b[43m,\u001b[49m\u001b[43m \u001b[49m\u001b[43mreturn_footprint\u001b[49m\u001b[38;5;241;43m=\u001b[39;49m\u001b[38;5;28;43;01mFalse\u001b[39;49;00m\u001b[43m)\u001b[49m\n\u001b[1;32m     55\u001b[0m hdu_out\u001b[38;5;241m.\u001b[39mflush()\n\u001b[1;32m     56\u001b[0m hdul\u001b[38;5;241m.\u001b[39mclose()  \u001b[38;5;66;03m# Close the original FITS file\u001b[39;00m\n",
      "File \u001b[0;32m~/opt/anaconda3/envs/python3p10/lib/python3.10/site-packages/reproject/interpolation/high_level.py:132\u001b[0m, in \u001b[0;36mreproject_interp\u001b[0;34m(input_data, output_projection, shape_out, hdu_in, order, roundtrip_coords, output_array, output_footprint, return_footprint, block_size, parallel, return_type)\u001b[0m\n\u001b[1;32m    128\u001b[0m     order \u001b[38;5;241m=\u001b[39m ORDER[order]\n\u001b[1;32m    130\u001b[0m \u001b[38;5;66;03m# TODO: add tests that actually ensure that order and roundtrip_coords work\u001b[39;00m\n\u001b[0;32m--> 132\u001b[0m \u001b[38;5;28;01mreturn\u001b[39;00m \u001b[43m_reproject_dispatcher\u001b[49m\u001b[43m(\u001b[49m\n\u001b[1;32m    133\u001b[0m \u001b[43m    \u001b[49m\u001b[43m_reproject_full\u001b[49m\u001b[43m,\u001b[49m\n\u001b[1;32m    134\u001b[0m \u001b[43m    \u001b[49m\u001b[43marray_in\u001b[49m\u001b[38;5;241;43m=\u001b[39;49m\u001b[43marray_in\u001b[49m\u001b[43m,\u001b[49m\n\u001b[1;32m    135\u001b[0m \u001b[43m    \u001b[49m\u001b[43mwcs_in\u001b[49m\u001b[38;5;241;43m=\u001b[39;49m\u001b[43mwcs_in\u001b[49m\u001b[43m,\u001b[49m\n\u001b[1;32m    136\u001b[0m \u001b[43m    \u001b[49m\u001b[43mwcs_out\u001b[49m\u001b[38;5;241;43m=\u001b[39;49m\u001b[43mwcs_out\u001b[49m\u001b[43m,\u001b[49m\n\u001b[1;32m    137\u001b[0m \u001b[43m    \u001b[49m\u001b[43mshape_out\u001b[49m\u001b[38;5;241;43m=\u001b[39;49m\u001b[43mshape_out\u001b[49m\u001b[43m,\u001b[49m\n\u001b[1;32m    138\u001b[0m \u001b[43m    \u001b[49m\u001b[43marray_out\u001b[49m\u001b[38;5;241;43m=\u001b[39;49m\u001b[43moutput_array\u001b[49m\u001b[43m,\u001b[49m\n\u001b[1;32m    139\u001b[0m \u001b[43m    \u001b[49m\u001b[43mparallel\u001b[49m\u001b[38;5;241;43m=\u001b[39;49m\u001b[43mparallel\u001b[49m\u001b[43m,\u001b[49m\n\u001b[1;32m    140\u001b[0m \u001b[43m    \u001b[49m\u001b[43mblock_size\u001b[49m\u001b[38;5;241;43m=\u001b[39;49m\u001b[43mblock_size\u001b[49m\u001b[43m,\u001b[49m\n\u001b[1;32m    141\u001b[0m \u001b[43m    \u001b[49m\u001b[43mreturn_footprint\u001b[49m\u001b[38;5;241;43m=\u001b[39;49m\u001b[43mreturn_footprint\u001b[49m\u001b[43m,\u001b[49m\n\u001b[1;32m    142\u001b[0m \u001b[43m    \u001b[49m\u001b[43moutput_footprint\u001b[49m\u001b[38;5;241;43m=\u001b[39;49m\u001b[43moutput_footprint\u001b[49m\u001b[43m,\u001b[49m\n\u001b[1;32m    143\u001b[0m \u001b[43m    \u001b[49m\u001b[43mreproject_func_kwargs\u001b[49m\u001b[38;5;241;43m=\u001b[39;49m\u001b[38;5;28;43mdict\u001b[39;49m\u001b[43m(\u001b[49m\n\u001b[1;32m    144\u001b[0m \u001b[43m        \u001b[49m\u001b[43morder\u001b[49m\u001b[38;5;241;43m=\u001b[39;49m\u001b[43morder\u001b[49m\u001b[43m,\u001b[49m\n\u001b[1;32m    145\u001b[0m \u001b[43m        \u001b[49m\u001b[43mroundtrip_coords\u001b[49m\u001b[38;5;241;43m=\u001b[39;49m\u001b[43mroundtrip_coords\u001b[49m\u001b[43m,\u001b[49m\n\u001b[1;32m    146\u001b[0m \u001b[43m    \u001b[49m\u001b[43m)\u001b[49m\u001b[43m,\u001b[49m\n\u001b[1;32m    147\u001b[0m \u001b[43m    \u001b[49m\u001b[43mreturn_type\u001b[49m\u001b[38;5;241;43m=\u001b[39;49m\u001b[43mreturn_type\u001b[49m\u001b[43m,\u001b[49m\n\u001b[1;32m    148\u001b[0m \u001b[43m\u001b[49m\u001b[43m)\u001b[49m\n",
      "File \u001b[0;32m~/opt/anaconda3/envs/python3p10/lib/python3.10/site-packages/reproject/common.py:170\u001b[0m, in \u001b[0;36m_reproject_dispatcher\u001b[0;34m(reproject_func, array_in, wcs_in, shape_out, wcs_out, block_size, array_out, return_footprint, output_footprint, parallel, reproject_func_kwargs, return_type)\u001b[0m\n\u001b[1;32m    167\u001b[0m logger\u001b[38;5;241m.\u001b[39minfo(\u001b[38;5;124mf\u001b[39m\u001b[38;5;124m\"\u001b[39m\u001b[38;5;124mCalling \u001b[39m\u001b[38;5;132;01m{\u001b[39;00mreproject_func\u001b[38;5;241m.\u001b[39m\u001b[38;5;18m__name__\u001b[39m\u001b[38;5;132;01m}\u001b[39;00m\u001b[38;5;124m in non-dask mode\u001b[39m\u001b[38;5;124m\"\u001b[39m)\n\u001b[1;32m    169\u001b[0m \u001b[38;5;28;01mtry\u001b[39;00m:\n\u001b[0;32m--> 170\u001b[0m     \u001b[38;5;28;01mreturn\u001b[39;00m \u001b[43mreproject_func\u001b[49m\u001b[43m(\u001b[49m\n\u001b[1;32m    171\u001b[0m \u001b[43m        \u001b[49m\u001b[43marray_in\u001b[49m\u001b[43m,\u001b[49m\n\u001b[1;32m    172\u001b[0m \u001b[43m        \u001b[49m\u001b[43mwcs_in\u001b[49m\u001b[43m,\u001b[49m\n\u001b[1;32m    173\u001b[0m \u001b[43m        \u001b[49m\u001b[43mwcs_out\u001b[49m\u001b[43m,\u001b[49m\n\u001b[1;32m    174\u001b[0m \u001b[43m        \u001b[49m\u001b[43mshape_out\u001b[49m\u001b[38;5;241;43m=\u001b[39;49m\u001b[43mshape_out\u001b[49m\u001b[43m,\u001b[49m\n\u001b[1;32m    175\u001b[0m \u001b[43m        \u001b[49m\u001b[43marray_out\u001b[49m\u001b[38;5;241;43m=\u001b[39;49m\u001b[43marray_out\u001b[49m\u001b[43m,\u001b[49m\n\u001b[1;32m    176\u001b[0m \u001b[43m        \u001b[49m\u001b[43mreturn_footprint\u001b[49m\u001b[38;5;241;43m=\u001b[39;49m\u001b[43mreturn_footprint\u001b[49m\u001b[43m,\u001b[49m\n\u001b[1;32m    177\u001b[0m \u001b[43m        \u001b[49m\u001b[43moutput_footprint\u001b[49m\u001b[38;5;241;43m=\u001b[39;49m\u001b[43moutput_footprint\u001b[49m\u001b[43m,\u001b[49m\n\u001b[1;32m    178\u001b[0m \u001b[43m        \u001b[49m\u001b[38;5;241;43m*\u001b[39;49m\u001b[38;5;241;43m*\u001b[39;49m\u001b[43mreproject_func_kwargs\u001b[49m\u001b[43m,\u001b[49m\n\u001b[1;32m    179\u001b[0m \u001b[43m    \u001b[49m\u001b[43m)\u001b[49m\n\u001b[1;32m    180\u001b[0m \u001b[38;5;28;01mfinally\u001b[39;00m:\n\u001b[1;32m    181\u001b[0m     \u001b[38;5;66;03m# Clean up reference to numpy memmap\u001b[39;00m\n\u001b[1;32m    182\u001b[0m     array_in \u001b[38;5;241m=\u001b[39m \u001b[38;5;28;01mNone\u001b[39;00m\n",
      "File \u001b[0;32m~/opt/anaconda3/envs/python3p10/lib/python3.10/site-packages/reproject/interpolation/core.py:112\u001b[0m, in \u001b[0;36m_reproject_full\u001b[0;34m(array, wcs_in, wcs_out, shape_out, order, array_out, return_footprint, roundtrip_coords, output_footprint)\u001b[0m\n\u001b[1;32m    110\u001b[0m \u001b[38;5;66;03m# For each pixel in the output array, get the pixel value in the input WCS\u001b[39;00m\n\u001b[1;32m    111\u001b[0m \u001b[38;5;28;01mif\u001b[39;00m roundtrip_coords:\n\u001b[0;32m--> 112\u001b[0m     pixel_in \u001b[38;5;241m=\u001b[39m \u001b[43mpixel_to_pixel_with_roundtrip\u001b[49m\u001b[43m(\u001b[49m\u001b[43mwcs_out\u001b[49m\u001b[43m,\u001b[49m\u001b[43m \u001b[49m\u001b[43mwcs_in\u001b[49m\u001b[43m,\u001b[49m\u001b[43m \u001b[49m\u001b[38;5;241;43m*\u001b[39;49m\u001b[43mpixel_out\u001b[49m\u001b[43m[\u001b[49m\u001b[43m:\u001b[49m\u001b[43m:\u001b[49m\u001b[38;5;241;43m-\u001b[39;49m\u001b[38;5;241;43m1\u001b[39;49m\u001b[43m]\u001b[49m\u001b[43m)\u001b[49m[::\u001b[38;5;241m-\u001b[39m\u001b[38;5;241m1\u001b[39m]\n\u001b[1;32m    113\u001b[0m \u001b[38;5;28;01melse\u001b[39;00m:\n\u001b[1;32m    114\u001b[0m     pixel_in \u001b[38;5;241m=\u001b[39m pixel_to_pixel(wcs_out, wcs_in, \u001b[38;5;241m*\u001b[39mpixel_out[::\u001b[38;5;241m-\u001b[39m\u001b[38;5;241m1\u001b[39m])[::\u001b[38;5;241m-\u001b[39m\u001b[38;5;241m1\u001b[39m]\n",
      "File \u001b[0;32m~/opt/anaconda3/envs/python3p10/lib/python3.10/site-packages/reproject/wcs_utils.py:32\u001b[0m, in \u001b[0;36mpixel_to_pixel_with_roundtrip\u001b[0;34m(wcs1, wcs2, *inputs)\u001b[0m\n\u001b[1;32m     29\u001b[0m outputs \u001b[38;5;241m=\u001b[39m pixel_to_pixel(wcs1, wcs2, \u001b[38;5;241m*\u001b[39minputs)\n\u001b[1;32m     31\u001b[0m \u001b[38;5;66;03m# Now convert back to check that coordinates round-trip, if not then set to NaN\u001b[39;00m\n\u001b[0;32m---> 32\u001b[0m inputs_check \u001b[38;5;241m=\u001b[39m \u001b[43mpixel_to_pixel\u001b[49m\u001b[43m(\u001b[49m\u001b[43mwcs2\u001b[49m\u001b[43m,\u001b[49m\u001b[43m \u001b[49m\u001b[43mwcs1\u001b[49m\u001b[43m,\u001b[49m\u001b[43m \u001b[49m\u001b[38;5;241;43m*\u001b[39;49m\u001b[43moutputs\u001b[49m\u001b[43m)\u001b[49m\n\u001b[1;32m     33\u001b[0m reset \u001b[38;5;241m=\u001b[39m np\u001b[38;5;241m.\u001b[39mzeros(inputs_check[\u001b[38;5;241m0\u001b[39m]\u001b[38;5;241m.\u001b[39mshape, dtype\u001b[38;5;241m=\u001b[39m\u001b[38;5;28mbool\u001b[39m)\n\u001b[1;32m     34\u001b[0m \u001b[38;5;28;01mfor\u001b[39;00m ipix \u001b[38;5;129;01min\u001b[39;00m \u001b[38;5;28mrange\u001b[39m(\u001b[38;5;28mlen\u001b[39m(inputs_check)):\n",
      "File \u001b[0;32m~/opt/anaconda3/envs/python3p10/lib/python3.10/site-packages/astropy/wcs/utils.py:937\u001b[0m, in \u001b[0;36mpixel_to_pixel\u001b[0;34m(wcs_in, wcs_out, *inputs)\u001b[0m\n\u001b[1;32m    934\u001b[0m \u001b[38;5;28;01mif\u001b[39;00m \u001b[38;5;129;01mnot\u001b[39;00m \u001b[38;5;28misinstance\u001b[39m(world_outputs, (\u001b[38;5;28mtuple\u001b[39m, \u001b[38;5;28mlist\u001b[39m)):\n\u001b[1;32m    935\u001b[0m     world_outputs \u001b[38;5;241m=\u001b[39m (world_outputs,)\n\u001b[0;32m--> 937\u001b[0m pixel_outputs \u001b[38;5;241m=\u001b[39m \u001b[43mwcs_out\u001b[49m\u001b[38;5;241;43m.\u001b[39;49m\u001b[43mworld_to_pixel\u001b[49m\u001b[43m(\u001b[49m\u001b[38;5;241;43m*\u001b[39;49m\u001b[43mworld_outputs\u001b[49m\u001b[43m)\u001b[49m\n\u001b[1;32m    939\u001b[0m \u001b[38;5;28;01mif\u001b[39;00m wcs_out\u001b[38;5;241m.\u001b[39mpixel_n_dim \u001b[38;5;241m==\u001b[39m \u001b[38;5;241m1\u001b[39m:\n\u001b[1;32m    940\u001b[0m     pixel_outputs \u001b[38;5;241m=\u001b[39m (pixel_outputs,)\n",
      "File \u001b[0;32m~/opt/anaconda3/envs/python3p10/lib/python3.10/site-packages/astropy/wcs/wcsapi/high_level_api.py:321\u001b[0m, in \u001b[0;36mHighLevelWCSMixin.world_to_pixel\u001b[0;34m(self, *world_objects)\u001b[0m\n\u001b[1;32m    316\u001b[0m world_values \u001b[38;5;241m=\u001b[39m high_level_objects_to_values(\n\u001b[1;32m    317\u001b[0m     \u001b[38;5;241m*\u001b[39mworld_objects, low_level_wcs\u001b[38;5;241m=\u001b[39m\u001b[38;5;28mself\u001b[39m\u001b[38;5;241m.\u001b[39mlow_level_wcs\n\u001b[1;32m    318\u001b[0m )\n\u001b[1;32m    320\u001b[0m \u001b[38;5;66;03m# Finally we convert to pixel coordinates\u001b[39;00m\n\u001b[0;32m--> 321\u001b[0m pixel_values \u001b[38;5;241m=\u001b[39m \u001b[38;5;28;43mself\u001b[39;49m\u001b[38;5;241;43m.\u001b[39;49m\u001b[43mlow_level_wcs\u001b[49m\u001b[38;5;241;43m.\u001b[39;49m\u001b[43mworld_to_pixel_values\u001b[49m\u001b[43m(\u001b[49m\u001b[38;5;241;43m*\u001b[39;49m\u001b[43mworld_values\u001b[49m\u001b[43m)\u001b[49m\n\u001b[1;32m    323\u001b[0m \u001b[38;5;28;01mreturn\u001b[39;00m pixel_values\n",
      "File \u001b[0;32m~/opt/anaconda3/envs/python3p10/lib/python3.10/site-packages/astropy/wcs/wcsapi/fitswcs.py:344\u001b[0m, in \u001b[0;36mFITSWCSAPIMixin.world_to_pixel_values\u001b[0;34m(self, *world_arrays)\u001b[0m\n\u001b[1;32m    341\u001b[0m \u001b[38;5;28;01mfrom\u001b[39;00m \u001b[38;5;21;01mastropy\u001b[39;00m\u001b[38;5;21;01m.\u001b[39;00m\u001b[38;5;21;01mwcs\u001b[39;00m\u001b[38;5;21;01m.\u001b[39;00m\u001b[38;5;21;01mwcs\u001b[39;00m \u001b[38;5;28;01mimport\u001b[39;00m NoConvergence\n\u001b[1;32m    343\u001b[0m \u001b[38;5;28;01mtry\u001b[39;00m:\n\u001b[0;32m--> 344\u001b[0m     pixel \u001b[38;5;241m=\u001b[39m \u001b[38;5;28;43mself\u001b[39;49m\u001b[38;5;241;43m.\u001b[39;49m\u001b[43mall_world2pix\u001b[49m\u001b[43m(\u001b[49m\u001b[38;5;241;43m*\u001b[39;49m\u001b[43mworld_arrays\u001b[49m\u001b[43m,\u001b[49m\u001b[43m \u001b[49m\u001b[38;5;241;43m0\u001b[39;49m\u001b[43m)\u001b[49m\n\u001b[1;32m    345\u001b[0m \u001b[38;5;28;01mexcept\u001b[39;00m NoConvergence \u001b[38;5;28;01mas\u001b[39;00m e:\n\u001b[1;32m    346\u001b[0m     warnings\u001b[38;5;241m.\u001b[39mwarn(\u001b[38;5;28mstr\u001b[39m(e))\n",
      "File \u001b[0;32m~/opt/anaconda3/envs/python3p10/lib/python3.10/site-packages/astropy/wcs/wcs.py:2110\u001b[0m, in \u001b[0;36mWCS.all_world2pix\u001b[0;34m(self, tolerance, maxiter, adaptive, detect_divergence, quiet, *args, **kwargs)\u001b[0m\n\u001b[1;32m   2107\u001b[0m \u001b[38;5;28;01mif\u001b[39;00m \u001b[38;5;28mself\u001b[39m\u001b[38;5;241m.\u001b[39mwcs \u001b[38;5;129;01mis\u001b[39;00m \u001b[38;5;28;01mNone\u001b[39;00m:\n\u001b[1;32m   2108\u001b[0m     \u001b[38;5;28;01mraise\u001b[39;00m \u001b[38;5;167;01mValueError\u001b[39;00m(\u001b[38;5;124m\"\u001b[39m\u001b[38;5;124mNo basic WCS settings were created.\u001b[39m\u001b[38;5;124m\"\u001b[39m)\n\u001b[0;32m-> 2110\u001b[0m \u001b[38;5;28;01mreturn\u001b[39;00m \u001b[38;5;28;43mself\u001b[39;49m\u001b[38;5;241;43m.\u001b[39;49m\u001b[43m_array_converter\u001b[49m\u001b[43m(\u001b[49m\n\u001b[1;32m   2111\u001b[0m \u001b[43m    \u001b[49m\u001b[38;5;28;43;01mlambda\u001b[39;49;00m\u001b[43m \u001b[49m\u001b[38;5;241;43m*\u001b[39;49m\u001b[43margs\u001b[49m\u001b[43m,\u001b[49m\u001b[43m \u001b[49m\u001b[38;5;241;43m*\u001b[39;49m\u001b[38;5;241;43m*\u001b[39;49m\u001b[43mkwargs\u001b[49m\u001b[43m:\u001b[49m\u001b[43m \u001b[49m\u001b[38;5;28;43mself\u001b[39;49m\u001b[38;5;241;43m.\u001b[39;49m\u001b[43m_all_world2pix\u001b[49m\u001b[43m(\u001b[49m\n\u001b[1;32m   2112\u001b[0m \u001b[43m        \u001b[49m\u001b[38;5;241;43m*\u001b[39;49m\u001b[43margs\u001b[49m\u001b[43m,\u001b[49m\n\u001b[1;32m   2113\u001b[0m \u001b[43m        \u001b[49m\u001b[43mtolerance\u001b[49m\u001b[38;5;241;43m=\u001b[39;49m\u001b[43mtolerance\u001b[49m\u001b[43m,\u001b[49m\n\u001b[1;32m   2114\u001b[0m \u001b[43m        \u001b[49m\u001b[43mmaxiter\u001b[49m\u001b[38;5;241;43m=\u001b[39;49m\u001b[43mmaxiter\u001b[49m\u001b[43m,\u001b[49m\n\u001b[1;32m   2115\u001b[0m \u001b[43m        \u001b[49m\u001b[43madaptive\u001b[49m\u001b[38;5;241;43m=\u001b[39;49m\u001b[43madaptive\u001b[49m\u001b[43m,\u001b[49m\n\u001b[1;32m   2116\u001b[0m \u001b[43m        \u001b[49m\u001b[43mdetect_divergence\u001b[49m\u001b[38;5;241;43m=\u001b[39;49m\u001b[43mdetect_divergence\u001b[49m\u001b[43m,\u001b[49m\n\u001b[1;32m   2117\u001b[0m \u001b[43m        \u001b[49m\u001b[43mquiet\u001b[49m\u001b[38;5;241;43m=\u001b[39;49m\u001b[43mquiet\u001b[49m\u001b[43m,\u001b[49m\n\u001b[1;32m   2118\u001b[0m \u001b[43m    \u001b[49m\u001b[43m)\u001b[49m\u001b[43m,\u001b[49m\n\u001b[1;32m   2119\u001b[0m \u001b[43m    \u001b[49m\u001b[38;5;124;43m\"\u001b[39;49m\u001b[38;5;124;43minput\u001b[39;49m\u001b[38;5;124;43m\"\u001b[39;49m\u001b[43m,\u001b[49m\n\u001b[1;32m   2120\u001b[0m \u001b[43m    \u001b[49m\u001b[38;5;241;43m*\u001b[39;49m\u001b[43margs\u001b[49m\u001b[43m,\u001b[49m\n\u001b[1;32m   2121\u001b[0m \u001b[43m    \u001b[49m\u001b[38;5;241;43m*\u001b[39;49m\u001b[38;5;241;43m*\u001b[39;49m\u001b[43mkwargs\u001b[49m\u001b[43m,\u001b[49m\n\u001b[1;32m   2122\u001b[0m \u001b[43m\u001b[49m\u001b[43m)\u001b[49m\n",
      "File \u001b[0;32m~/opt/anaconda3/envs/python3p10/lib/python3.10/site-packages/astropy/wcs/wcs.py:1546\u001b[0m, in \u001b[0;36mWCS._array_converter\u001b[0;34m(self, func, sky, ra_dec_order, *args)\u001b[0m\n\u001b[1;32m   1540\u001b[0m     \u001b[38;5;28;01mexcept\u001b[39;00m \u001b[38;5;167;01mException\u001b[39;00m:\n\u001b[1;32m   1541\u001b[0m         \u001b[38;5;28;01mraise\u001b[39;00m \u001b[38;5;167;01mTypeError\u001b[39;00m(\n\u001b[1;32m   1542\u001b[0m             \u001b[38;5;124m\"\u001b[39m\u001b[38;5;124mWhen providing more than two arguments, they must be \u001b[39m\u001b[38;5;124m\"\u001b[39m\n\u001b[1;32m   1543\u001b[0m             \u001b[38;5;124m\"\u001b[39m\u001b[38;5;124ma 1-D array for each axis, followed by an origin.\u001b[39m\u001b[38;5;124m\"\u001b[39m\n\u001b[1;32m   1544\u001b[0m         )\n\u001b[0;32m-> 1546\u001b[0m     \u001b[38;5;28;01mreturn\u001b[39;00m \u001b[43m_return_list_of_arrays\u001b[49m\u001b[43m(\u001b[49m\u001b[43maxes\u001b[49m\u001b[43m,\u001b[49m\u001b[43m \u001b[49m\u001b[43morigin\u001b[49m\u001b[43m)\u001b[49m\n\u001b[1;32m   1548\u001b[0m \u001b[38;5;28;01mraise\u001b[39;00m \u001b[38;5;167;01mTypeError\u001b[39;00m(\n\u001b[1;32m   1549\u001b[0m     \u001b[38;5;124mf\u001b[39m\u001b[38;5;124m\"\u001b[39m\u001b[38;5;124mWCS projection has \u001b[39m\u001b[38;5;132;01m{\u001b[39;00m\u001b[38;5;28mself\u001b[39m\u001b[38;5;241m.\u001b[39mnaxis\u001b[38;5;132;01m}\u001b[39;00m\u001b[38;5;124m dimensions, so expected 2 (an Nx\u001b[39m\u001b[38;5;132;01m{\u001b[39;00m\u001b[38;5;28mself\u001b[39m\u001b[38;5;241m.\u001b[39mnaxis\u001b[38;5;132;01m}\u001b[39;00m\u001b[38;5;124m array \u001b[39m\u001b[38;5;124m\"\u001b[39m\n\u001b[1;32m   1550\u001b[0m     \u001b[38;5;124mf\u001b[39m\u001b[38;5;124m\"\u001b[39m\u001b[38;5;124mand the origin argument) or \u001b[39m\u001b[38;5;132;01m{\u001b[39;00m\u001b[38;5;28mself\u001b[39m\u001b[38;5;241m.\u001b[39mnaxis\u001b[38;5;250m \u001b[39m\u001b[38;5;241m+\u001b[39m\u001b[38;5;250m \u001b[39m\u001b[38;5;241m1\u001b[39m\u001b[38;5;132;01m}\u001b[39;00m\u001b[38;5;124m arguments (the position in each \u001b[39m\u001b[38;5;124m\"\u001b[39m\n\u001b[1;32m   1551\u001b[0m     \u001b[38;5;124mf\u001b[39m\u001b[38;5;124m\"\u001b[39m\u001b[38;5;124mdimension, and the origin argument). Instead, \u001b[39m\u001b[38;5;132;01m{\u001b[39;00m\u001b[38;5;28mlen\u001b[39m(args)\u001b[38;5;132;01m}\u001b[39;00m\u001b[38;5;124m arguments were \u001b[39m\u001b[38;5;124m\"\u001b[39m\n\u001b[1;32m   1552\u001b[0m     \u001b[38;5;124m\"\u001b[39m\u001b[38;5;124mgiven.\u001b[39m\u001b[38;5;124m\"\u001b[39m\n\u001b[1;32m   1553\u001b[0m )\n",
      "File \u001b[0;32m~/opt/anaconda3/envs/python3p10/lib/python3.10/site-packages/astropy/wcs/wcs.py:1492\u001b[0m, in \u001b[0;36mWCS._array_converter.<locals>._return_list_of_arrays\u001b[0;34m(axes, origin)\u001b[0m\n\u001b[1;32m   1487\u001b[0m \u001b[38;5;28;01mexcept\u001b[39;00m \u001b[38;5;167;01mValueError\u001b[39;00m:\n\u001b[1;32m   1488\u001b[0m     \u001b[38;5;28;01mraise\u001b[39;00m \u001b[38;5;167;01mValueError\u001b[39;00m(\n\u001b[1;32m   1489\u001b[0m         \u001b[38;5;124m\"\u001b[39m\u001b[38;5;124mCoordinate arrays are not broadcastable to each other\u001b[39m\u001b[38;5;124m\"\u001b[39m\n\u001b[1;32m   1490\u001b[0m     )\n\u001b[0;32m-> 1492\u001b[0m xy \u001b[38;5;241m=\u001b[39m \u001b[43mnp\u001b[49m\u001b[38;5;241;43m.\u001b[39;49m\u001b[43mhstack\u001b[49m\u001b[43m(\u001b[49m\u001b[43m[\u001b[49m\u001b[43mx\u001b[49m\u001b[38;5;241;43m.\u001b[39;49m\u001b[43mreshape\u001b[49m\u001b[43m(\u001b[49m\u001b[43m(\u001b[49m\u001b[43mx\u001b[49m\u001b[38;5;241;43m.\u001b[39;49m\u001b[43msize\u001b[49m\u001b[43m,\u001b[49m\u001b[43m \u001b[49m\u001b[38;5;241;43m1\u001b[39;49m\u001b[43m)\u001b[49m\u001b[43m)\u001b[49m\u001b[43m \u001b[49m\u001b[38;5;28;43;01mfor\u001b[39;49;00m\u001b[43m \u001b[49m\u001b[43mx\u001b[49m\u001b[43m \u001b[49m\u001b[38;5;129;43;01min\u001b[39;49;00m\u001b[43m \u001b[49m\u001b[43maxes\u001b[49m\u001b[43m]\u001b[49m\u001b[43m)\u001b[49m\n\u001b[1;32m   1494\u001b[0m \u001b[38;5;28;01mif\u001b[39;00m ra_dec_order \u001b[38;5;129;01mand\u001b[39;00m sky \u001b[38;5;241m==\u001b[39m \u001b[38;5;124m\"\u001b[39m\u001b[38;5;124minput\u001b[39m\u001b[38;5;124m\"\u001b[39m:\n\u001b[1;32m   1495\u001b[0m     xy \u001b[38;5;241m=\u001b[39m \u001b[38;5;28mself\u001b[39m\u001b[38;5;241m.\u001b[39m_denormalize_sky(xy)\n",
      "File \u001b[0;32m~/opt/anaconda3/envs/python3p10/lib/python3.10/site-packages/numpy/core/shape_base.py:359\u001b[0m, in \u001b[0;36mhstack\u001b[0;34m(tup, dtype, casting)\u001b[0m\n\u001b[1;32m    357\u001b[0m     \u001b[38;5;28;01mreturn\u001b[39;00m _nx\u001b[38;5;241m.\u001b[39mconcatenate(arrs, \u001b[38;5;241m0\u001b[39m, dtype\u001b[38;5;241m=\u001b[39mdtype, casting\u001b[38;5;241m=\u001b[39mcasting)\n\u001b[1;32m    358\u001b[0m \u001b[38;5;28;01melse\u001b[39;00m:\n\u001b[0;32m--> 359\u001b[0m     \u001b[38;5;28;01mreturn\u001b[39;00m \u001b[43m_nx\u001b[49m\u001b[38;5;241;43m.\u001b[39;49m\u001b[43mconcatenate\u001b[49m\u001b[43m(\u001b[49m\u001b[43marrs\u001b[49m\u001b[43m,\u001b[49m\u001b[43m \u001b[49m\u001b[38;5;241;43m1\u001b[39;49m\u001b[43m,\u001b[49m\u001b[43m \u001b[49m\u001b[43mdtype\u001b[49m\u001b[38;5;241;43m=\u001b[39;49m\u001b[43mdtype\u001b[49m\u001b[43m,\u001b[49m\u001b[43m \u001b[49m\u001b[43mcasting\u001b[49m\u001b[38;5;241;43m=\u001b[39;49m\u001b[43mcasting\u001b[49m\u001b[43m)\u001b[49m\n",
      "\u001b[0;31mKeyboardInterrupt\u001b[0m: "
     ]
    }
   ],
   "source": [
    "import dask.array as da\n",
    "from astropy.io import fits\n",
    "from reproject.mosaicking import find_optimal_celestial_wcs\n",
    "from reproject import reproject_interp\n",
    "import numpy as np\n",
    "\n",
    "input_file = 'G301_HC3N_Tmb_DR1.fits'\n",
    "\n",
    "# Open FITS file and retain the HDU\n",
    "hdul = fits.open(input_file, memmap=True)\n",
    "hdu = hdul[0]  # Retain reference to the HDU\n",
    "data = da.from_array(hdu.data, chunks=(1, 100, 100))  # Chunking for Dask\n",
    "hdr = hdu.header\n",
    "\n",
    "# Create 2D header for WCS calculation\n",
    "hdu_2d = hdu.copy()\n",
    "hdu_2d.data = hdu_2d.data[0, :, :]\n",
    "hdu_2d.header['NAXIS'] = 2\n",
    "\n",
    "# Remove 3D-specific header keys\n",
    "del_keys = [key for key in hdu_2d.header.keys() if '3' in key]\n",
    "for key in del_keys:\n",
    "    del hdu_2d.header[key]\n",
    "\n",
    "# Compute optimal WCS\n",
    "wcs_out, shape_out = find_optimal_celestial_wcs(hdu_2d, frame='fk5', auto_rotate=True)\n",
    "hdr_out_ = wcs_out.to_header()\n",
    "\n",
    "# Copy original header and update with new projection\n",
    "hdr_out = hdr.copy()\n",
    "for key in ['CRPIX1', 'CRPIX2', 'PC1_1', 'PC1_2', 'PC2_1', 'PC2_2', 'CDELT1', 'CDELT2',\n",
    "            'CUNIT1', 'CUNIT2', 'CTYPE1', 'CTYPE2', 'CRVAL1', 'CRVAL2', 'LONPOLE', 'LATPOLE',\n",
    "            'RADESYS', 'EQUINOX']:\n",
    "    hdr_out[key] = hdr_out_[key]\n",
    "\n",
    "# Ensure all header values are properly formatted\n",
    "for key, value in hdr_out.items():\n",
    "    if isinstance(value, bool):  # FITS headers do not support bools directly\n",
    "        hdr_out[key] = 'T' if value else 'F'\n",
    "    elif isinstance(value, bytes):  # Ensure string values are in proper format\n",
    "        hdr_out[key] = value.decode('utf-8')\n",
    "\n",
    "# Create an empty output FITS file\n",
    "output_file = 'G301_HC3N_Tmb_DR1_reprojected.fits'\n",
    "hdu_out = fits.PrimaryHDU(header=hdr_out)\n",
    "hdu_out.writeto(output_file, overwrite=True)\n",
    "\n",
    "# Open for updating with memory mapping\n",
    "hdu_out = fits.open(output_file, mode='update', memmap=True)\n",
    "output_array = hdu_out[0].data\n",
    "\n",
    "# Reproject using Dask\n",
    "rslt = reproject_interp(hdu, hdr_out, output_array=output_array, return_footprint=False)\n",
    "\n",
    "hdu_out.flush()\n",
    "hdul.close()  # Close the original FITS file\n",
    "hdu_out.close()  # Close the output FITS file"
   ]
  },
  {
   "cell_type": "code",
   "execution_count": null,
   "metadata": {},
   "outputs": [],
   "source": []
  }
 ],
 "metadata": {
  "kernelspec": {
   "display_name": "python3p10",
   "language": "python",
   "name": "python3"
  },
  "language_info": {
   "codemirror_mode": {
    "name": "ipython",
    "version": 3
   },
   "file_extension": ".py",
   "mimetype": "text/x-python",
   "name": "python",
   "nbconvert_exporter": "python",
   "pygments_lexer": "ipython3",
   "version": "3.10.15"
  }
 },
 "nbformat": 4,
 "nbformat_minor": 2
}
