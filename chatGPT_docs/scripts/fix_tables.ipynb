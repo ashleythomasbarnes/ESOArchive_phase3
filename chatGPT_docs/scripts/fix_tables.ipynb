{
 "cells": [
  {
   "cell_type": "code",
   "execution_count": 81,
   "metadata": {},
   "outputs": [],
   "source": [
    "from astropy.table import Table \n",
    "from astropy.table import vstack\n",
    "import numpy as np"
   ]
  },
  {
   "cell_type": "code",
   "execution_count": 91,
   "metadata": {},
   "outputs": [],
   "source": [
    "dir_table = \"./../tables/working_area/\"\n",
    "file = f\"{dir_table}tmp.csv\"\n",
    "file_all = f\"{dir_table}table_fixedwidth_backup.csv\""
   ]
  },
  {
   "cell_type": "code",
   "execution_count": 77,
   "metadata": {},
   "outputs": [
    {
     "name": "stdout",
     "output_type": "stream",
     "text": [
      "col1 -> #\n",
      "col2 -> Column Name\n",
      "col3 -> IMAGE (single)\n",
      "col4 -> IMAGE (single) MEF format\n",
      "col5 -> MEFIMAGE (mosaic) MEF format\n",
      "col6 -> IMAGE.FLUXMAP\n",
      "col7 -> SPECTRUM\n",
      "col8 -> CUBE.IFS\n",
      "col9 -> VISIBILITY\n",
      "col10 -> SRCTBL\n",
      "col11 -> MCATALOG\n",
      "col12 -> CATALOGTILE\n",
      "col13 -> CATALOG\n"
     ]
    }
   ],
   "source": [
    "table = Table.read(file, format='ascii.fixed_width_no_header')\n",
    "table_all = Table.read(file_all, format='ascii.fixed_width')\n",
    "table_all = table_all[1:]\n",
    "table_all['#'] = np.array(table_all['#'], dtype=np.int64)\n",
    "\n",
    "for colname1, colname2 in zip(table.colnames, table_all.colnames):\n",
    "    print(f\"{colname1} -> {colname2}\")\n",
    "    table[colname1].name = colname2\n",
    "    # if table[colname2].dtype < table_all[colname2].dtype:\n",
    "    #     table[colname2].dtype = table_all[colname2].dtype\n",
    "    # else:\n",
    "    #     table_all[colname2].dtype = table[colname2].dtype"
   ]
  },
  {
   "cell_type": "code",
   "execution_count": 78,
   "metadata": {},
   "outputs": [
    {
     "data": {
      "text/html": [
       "<div><i>Table length=103</i>\n",
       "<table id=\"table4768491056\" class=\"table-striped table-bordered table-condensed\">\n",
       "<thead><tr><th>#</th><th>Column Name</th><th>IMAGE (single)</th><th>IMAGE (single) MEF format</th><th>MEFIMAGE (mosaic) MEF format</th><th>IMAGE.FLUXMAP</th><th>SPECTRUM</th><th>CUBE.IFS</th><th>VISIBILITY</th><th>SRCTBL</th><th>MCATALOG</th><th>CATALOGTILE</th><th>CATALOG</th></tr></thead>\n",
       "<thead><tr><th>int64</th><th>str18</th><th>str16</th><th>str27</th><th>str30</th><th>str15</th><th>str10</th><th>str11</th><th>str12</th><th>str8</th><th>str10</th><th>str13</th><th>str12</th></tr></thead>\n",
       "<tr><td>1</td><td>PRODCATG</td><td>MM</td><td>MM</td><td>MM</td><td>MM</td><td>MM</td><td>MM</td><td>MM</td><td>MM</td><td>MM</td><td>MM</td><td>MM</td></tr>\n",
       "<tr><td>2</td><td>ASSOCi</td><td>MA31</td><td>MA31</td><td>MA31</td><td>MA31</td><td>MA31</td><td>MA31</td><td>MA31</td><td>MA31</td><td>NA</td><td>MA31</td><td>MA31</td></tr>\n",
       "<tr><td>3</td><td>ASSONi</td><td>MA32</td><td>MA32</td><td>MA32</td><td>M33</td><td>MA32</td><td>M34</td><td>MA32</td><td>MA32</td><td>NA</td><td>MA32</td><td>MA32</td></tr>\n",
       "<tr><td>4</td><td>ASSOMi</td><td>MA31</td><td>MA31</td><td>MA31</td><td>MA31</td><td>MA31</td><td>MA31</td><td>MA31</td><td>MA31</td><td>NA</td><td>MA31</td><td>MA31</td></tr>\n",
       "<tr><td>5</td><td>ORIGIN</td><td>MM</td><td>MM</td><td>MM</td><td>MM</td><td>MM</td><td>MM</td><td>MM</td><td>MM</td><td>MM</td><td>MM</td><td>MM</td></tr>\n",
       "<tr><td>6</td><td>TELESCOP TELESCi</td><td>MM</td><td>MM</td><td>MM</td><td>MM</td><td>MM</td><td>MM</td><td>MM</td><td>MM</td><td>MM</td><td>MM</td><td>MM</td></tr>\n",
       "<tr><td>7</td><td>INSTRUME INSTRi</td><td>MM</td><td>MM</td><td>MM</td><td>MM</td><td>MM</td><td>MM</td><td>MM</td><td>MM</td><td>MM</td><td>MM</td><td>MM</td></tr>\n",
       "<tr><td>8</td><td>FILTER FILTERi</td><td>MM</td><td>MM</td><td>MM</td><td>MM</td><td>NA</td><td>NA</td><td>NA</td><td>MM</td><td>MA35</td><td>MA35</td><td>MA35</td></tr>\n",
       "<tr><td>9</td><td>OBJECT</td><td>MM</td><td>MM</td><td>MM</td><td>MM</td><td>MM</td><td>MM</td><td>MM</td><td>MM</td><td>MM</td><td>MM</td><td>MM</td></tr>\n",
       "<tr><td>...</td><td>...</td><td>...</td><td>...</td><td>...</td><td>...</td><td>...</td><td>...</td><td>...</td><td>...</td><td>...</td><td>...</td><td>...</td></tr>\n",
       "<tr><td>97</td><td>ARCFILE</td><td>RC</td><td>RC</td><td>RC</td><td>RC</td><td>RC</td><td>RC</td><td>RC</td><td>RC</td><td>RC</td><td>RC</td><td>RC</td></tr>\n",
       "<tr><td>98</td><td>CHECKSUM</td><td>MM</td><td>MM</td><td>MM</td><td>MM</td><td>MM</td><td>MM</td><td>MM</td><td>MM</td><td>MM</td><td>MM</td><td>MM</td></tr>\n",
       "<tr><td>99</td><td>DATASUM</td><td>MM</td><td>MM</td><td>MM</td><td>MM</td><td>MM</td><td>MM</td><td>MM</td><td>MM</td><td>MM</td><td>MM</td><td>MM</td></tr>\n",
       "<tr><td>100</td><td>ORIGFILE</td><td>RC</td><td>RC</td><td>RC</td><td>RC</td><td>RC</td><td>RC</td><td>RC</td><td>RC</td><td>RC</td><td>RC</td><td>RC</td></tr>\n",
       "<tr><td>101</td><td>P3ORIG</td><td>RC</td><td>RC</td><td>RC</td><td>RC</td><td>RC</td><td>RC</td><td>RC</td><td>RC</td><td>RC</td><td>RC</td><td>RC</td></tr>\n",
       "<tr><td>102</td><td>NDIT</td><td>MA52</td><td>MA52</td><td>MA52</td><td>NA</td><td>NA</td><td>NA</td><td>NA</td><td>NA</td><td>NA</td><td>NA</td><td>NA</td></tr>\n",
       "<tr><td>103</td><td>NJITTER</td><td>MA52</td><td>MA52</td><td>MA52</td><td>NA</td><td>NA</td><td>NA</td><td>NA</td><td>NA</td><td>NA</td><td>NA</td><td>NA</td></tr>\n",
       "<tr><td>104</td><td>NOFFSETS</td><td>MA52</td><td>MA52</td><td>MA52</td><td>NA</td><td>NA</td><td>NA</td><td>NA</td><td>NA</td><td>NA</td><td>NA</td><td>NA</td></tr>\n",
       "<tr><td>105</td><td>NUSTEP</td><td>MA52</td><td>MA52</td><td>MA52</td><td>NA</td><td>NA</td><td>NA</td><td>NA</td><td>NA</td><td>NA</td><td>NA</td><td>NA</td></tr>\n",
       "<tr><td>106</td><td>FPRAia</td><td>NA</td><td>NA</td><td>NA</td><td>NA</td><td>NA</td><td>NA</td><td>NA</td><td>NA</td><td>MA53</td><td>MM</td><td>MA54</td></tr>\n",
       "</table></div>"
      ],
      "text/plain": [
       "<Table length=103>\n",
       "  #     Column Name    IMAGE (single) ... MCATALOG CATALOGTILE CATALOG\n",
       "int64      str18           str16      ...  str10      str13     str12 \n",
       "----- ---------------- -------------- ... -------- ----------- -------\n",
       "    1         PRODCATG             MM ...       MM          MM      MM\n",
       "    2           ASSOCi           MA31 ...       NA        MA31    MA31\n",
       "    3           ASSONi           MA32 ...       NA        MA32    MA32\n",
       "    4           ASSOMi           MA31 ...       NA        MA31    MA31\n",
       "    5           ORIGIN             MM ...       MM          MM      MM\n",
       "    6 TELESCOP TELESCi             MM ...       MM          MM      MM\n",
       "    7  INSTRUME INSTRi             MM ...       MM          MM      MM\n",
       "    8   FILTER FILTERi             MM ...     MA35        MA35    MA35\n",
       "    9           OBJECT             MM ...       MM          MM      MM\n",
       "  ...              ...            ... ...      ...         ...     ...\n",
       "   97          ARCFILE             RC ...       RC          RC      RC\n",
       "   98         CHECKSUM             MM ...       MM          MM      MM\n",
       "   99          DATASUM             MM ...       MM          MM      MM\n",
       "  100         ORIGFILE             RC ...       RC          RC      RC\n",
       "  101           P3ORIG             RC ...       RC          RC      RC\n",
       "  102             NDIT           MA52 ...       NA          NA      NA\n",
       "  103          NJITTER           MA52 ...       NA          NA      NA\n",
       "  104         NOFFSETS           MA52 ...       NA          NA      NA\n",
       "  105           NUSTEP           MA52 ...       NA          NA      NA\n",
       "  106           FPRAia             NA ...     MA53          MM    MA54"
      ]
     },
     "execution_count": 78,
     "metadata": {},
     "output_type": "execute_result"
    }
   ],
   "source": [
    "table_all"
   ]
  },
  {
   "cell_type": "code",
   "execution_count": 79,
   "metadata": {},
   "outputs": [
    {
     "data": {
      "text/html": [
       "<div><i>Table length=23</i>\n",
       "<table id=\"table6437354528\" class=\"table-striped table-bordered table-condensed\">\n",
       "<thead><tr><th>#</th><th>Column Name</th><th>IMAGE (single)</th><th>IMAGE (single) MEF format</th><th>MEFIMAGE (mosaic) MEF format</th><th>IMAGE.FLUXMAP</th><th>SPECTRUM</th><th>CUBE.IFS</th><th>VISIBILITY</th><th>SRCTBL</th><th>MCATALOG</th><th>CATALOGTILE</th><th>CATALOG</th></tr></thead>\n",
       "<thead><tr><th>int64</th><th>str8</th><th>str4</th><th>str4</th><th>str4</th><th>str4</th><th>str4</th><th>str4</th><th>str4</th><th>str4</th><th>str4</th><th>str9</th><th>str9</th></tr></thead>\n",
       "<tr><td>107</td><td>FPDEia</td><td>NA</td><td>NA</td><td>NA</td><td>NA</td><td>NA</td><td>NA</td><td>NA</td><td>NA</td><td>MA53</td><td>MM</td><td>MA53</td></tr>\n",
       "<tr><td>108</td><td>SKYSQDEG</td><td>NA</td><td>NA</td><td>NA</td><td>NA</td><td>NA</td><td>NA</td><td>NA</td><td>NA</td><td>MM</td><td>MM</td><td>MA54</td></tr>\n",
       "<tr><td>109</td><td>M_EPOCH</td><td>NA</td><td>NA</td><td>NA</td><td>NA</td><td>NA</td><td>NA</td><td>NA</td><td>NA</td><td>MA55</td><td>MA55</td><td>MA55</td></tr>\n",
       "<tr><td>110</td><td>APMATCHD</td><td>NA</td><td>NA</td><td>NA</td><td>NA</td><td>NA</td><td>NA</td><td>NA</td><td>NA</td><td>MA56</td><td>MA56</td><td>MA56</td></tr>\n",
       "<tr><td>111</td><td>TXLNKi</td><td>NA</td><td>NA</td><td>NA</td><td>NA</td><td>NA</td><td>NA</td><td>NA</td><td>NA</td><td>MA57</td><td>MA57 MA58</td><td>MA57 MA58</td></tr>\n",
       "<tr><td>112</td><td>TXRGF</td><td>NA</td><td>NA</td><td>NA</td><td>NA</td><td>NA</td><td>NA</td><td>NA</td><td>NA</td><td>MA57</td><td>NA</td><td>MA57</td></tr>\n",
       "<tr><td>113</td><td>TXCTY</td><td>NA</td><td>NA</td><td>NA</td><td>NA</td><td>NA</td><td>NA</td><td>NA</td><td>NA</td><td>MA57</td><td>NA</td><td>MA57</td></tr>\n",
       "<tr><td>114</td><td>NOESODAT</td><td>MA59</td><td>MA59</td><td>MA59</td><td>MA59</td><td>MA59</td><td>MA59</td><td>MA59</td><td>MA59</td><td>MA59</td><td>MA59</td><td>MA59</td></tr>\n",
       "<tr><td>115</td><td>TFIELDS</td><td>NA</td><td>NA</td><td>NA</td><td>NA</td><td>MM</td><td>NA</td><td>MM</td><td>MM</td><td>MM</td><td>MM</td><td>MM</td></tr>\n",
       "<tr><td>...</td><td>...</td><td>...</td><td>...</td><td>...</td><td>...</td><td>...</td><td>...</td><td>...</td><td>...</td><td>...</td><td>...</td><td>...</td></tr>\n",
       "<tr><td>120</td><td>TUTYPi</td><td>NA</td><td>NA</td><td>NA</td><td>NA</td><td>M62</td><td>NA</td><td>NA</td><td>NA</td><td>NA</td><td>NA</td><td>NA</td></tr>\n",
       "<tr><td>121</td><td>TUCDi</td><td>NA</td><td>NA</td><td>NA</td><td>NA</td><td>MM</td><td>NA</td><td>OP</td><td>OP</td><td>MM</td><td>MM</td><td>MM</td></tr>\n",
       "<tr><td>122</td><td>TDMINi</td><td>NA</td><td>NA</td><td>NA</td><td>NA</td><td>MA63</td><td>NA</td><td>OP</td><td>OP</td><td>OP</td><td>OP</td><td>OP</td></tr>\n",
       "<tr><td>123</td><td>TDMAXi</td><td>NA</td><td>NA</td><td>NA</td><td>NA</td><td>MA63</td><td>NA</td><td>OP</td><td>OP</td><td>OP</td><td>OP</td><td>OP</td></tr>\n",
       "<tr><td>124</td><td>TNULLi</td><td>NA</td><td>NA</td><td>NA</td><td>NA</td><td>NA</td><td>NA</td><td>OP</td><td>OP</td><td>MA64</td><td>MA64</td><td>MA64</td></tr>\n",
       "<tr><td>125</td><td>EXTNAME</td><td>MA65</td><td>MA65</td><td>MA65</td><td>MA65</td><td>MA65</td><td>MA65</td><td>MA65</td><td>MA65</td><td>MA65</td><td>MA65</td><td>MA65</td></tr>\n",
       "<tr><td>126</td><td>TZEROi</td><td>NA</td><td>NA</td><td>NA</td><td>NA</td><td>NA</td><td>NA</td><td>NA</td><td>NA</td><td>NO</td><td>NO</td><td>NO</td></tr>\n",
       "<tr><td>127</td><td>TSCALi</td><td>NA</td><td>NA</td><td>NA</td><td>NA</td><td>NA</td><td>NA</td><td>NA</td><td>NA</td><td>NO</td><td>NO</td><td>NO</td></tr>\n",
       "<tr><td>128</td><td>EXTVER</td><td>NA</td><td>NA</td><td>NA</td><td>NA</td><td>NA</td><td>NA</td><td>NA</td><td>NA</td><td>NO</td><td>NO</td><td>NO</td></tr>\n",
       "<tr><td>129</td><td>EXTLEVEL</td><td>NA</td><td>NA</td><td>NA</td><td>NA</td><td>NA</td><td>NA</td><td>NA</td><td>NA</td><td>NO</td><td>NO</td><td>NO</td></tr>\n",
       "</table></div>"
      ],
      "text/plain": [
       "<Table length=23>\n",
       "  #   Column Name IMAGE (single) ... MCATALOG CATALOGTILE  CATALOG \n",
       "int64     str8         str4      ...   str4       str9       str9  \n",
       "----- ----------- -------------- ... -------- ----------- ---------\n",
       "  107      FPDEia             NA ...     MA53          MM      MA53\n",
       "  108    SKYSQDEG             NA ...       MM          MM      MA54\n",
       "  109     M_EPOCH             NA ...     MA55        MA55      MA55\n",
       "  110    APMATCHD             NA ...     MA56        MA56      MA56\n",
       "  111      TXLNKi             NA ...     MA57   MA57 MA58 MA57 MA58\n",
       "  112       TXRGF             NA ...     MA57          NA      MA57\n",
       "  113       TXCTY             NA ...     MA57          NA      MA57\n",
       "  114    NOESODAT           MA59 ...     MA59        MA59      MA59\n",
       "  115     TFIELDS             NA ...       MM          MM        MM\n",
       "  ...         ...            ... ...      ...         ...       ...\n",
       "  120      TUTYPi             NA ...       NA          NA        NA\n",
       "  121       TUCDi             NA ...       MM          MM        MM\n",
       "  122      TDMINi             NA ...       OP          OP        OP\n",
       "  123      TDMAXi             NA ...       OP          OP        OP\n",
       "  124      TNULLi             NA ...     MA64        MA64      MA64\n",
       "  125     EXTNAME           MA65 ...     MA65        MA65      MA65\n",
       "  126      TZEROi             NA ...       NO          NO        NO\n",
       "  127      TSCALi             NA ...       NO          NO        NO\n",
       "  128      EXTVER             NA ...       NO          NO        NO\n",
       "  129    EXTLEVEL             NA ...       NO          NO        NO"
      ]
     },
     "execution_count": 79,
     "metadata": {},
     "output_type": "execute_result"
    }
   ],
   "source": [
    "table"
   ]
  },
  {
   "cell_type": "code",
   "execution_count": null,
   "metadata": {},
   "outputs": [
    {
     "data": {
      "text/html": [
       "<div><i>Table length=126</i>\n",
       "<table id=\"table6440310864\" class=\"table-striped table-bordered table-condensed\">\n",
       "<thead><tr><th>#</th><th>Column Name</th><th>IMAGE (single)</th><th>IMAGE (single) MEF format</th><th>MEFIMAGE (mosaic) MEF format</th><th>IMAGE.FLUXMAP</th><th>SPECTRUM</th><th>CUBE.IFS</th><th>VISIBILITY</th><th>SRCTBL</th><th>MCATALOG</th><th>CATALOGTILE</th><th>CATALOG</th></tr></thead>\n",
       "<thead><tr><th>int64</th><th>str18</th><th>str16</th><th>str27</th><th>str30</th><th>str15</th><th>str10</th><th>str11</th><th>str12</th><th>str8</th><th>str10</th><th>str13</th><th>str12</th></tr></thead>\n",
       "<tr><td>1</td><td>PRODCATG</td><td>MM</td><td>MM</td><td>MM</td><td>MM</td><td>MM</td><td>MM</td><td>MM</td><td>MM</td><td>MM</td><td>MM</td><td>MM</td></tr>\n",
       "<tr><td>2</td><td>ASSOCi</td><td>MA31</td><td>MA31</td><td>MA31</td><td>MA31</td><td>MA31</td><td>MA31</td><td>MA31</td><td>MA31</td><td>NA</td><td>MA31</td><td>MA31</td></tr>\n",
       "<tr><td>3</td><td>ASSONi</td><td>MA32</td><td>MA32</td><td>MA32</td><td>M33</td><td>MA32</td><td>M34</td><td>MA32</td><td>MA32</td><td>NA</td><td>MA32</td><td>MA32</td></tr>\n",
       "<tr><td>4</td><td>ASSOMi</td><td>MA31</td><td>MA31</td><td>MA31</td><td>MA31</td><td>MA31</td><td>MA31</td><td>MA31</td><td>MA31</td><td>NA</td><td>MA31</td><td>MA31</td></tr>\n",
       "<tr><td>5</td><td>ORIGIN</td><td>MM</td><td>MM</td><td>MM</td><td>MM</td><td>MM</td><td>MM</td><td>MM</td><td>MM</td><td>MM</td><td>MM</td><td>MM</td></tr>\n",
       "<tr><td>6</td><td>TELESCOP TELESCi</td><td>MM</td><td>MM</td><td>MM</td><td>MM</td><td>MM</td><td>MM</td><td>MM</td><td>MM</td><td>MM</td><td>MM</td><td>MM</td></tr>\n",
       "<tr><td>7</td><td>INSTRUME INSTRi</td><td>MM</td><td>MM</td><td>MM</td><td>MM</td><td>MM</td><td>MM</td><td>MM</td><td>MM</td><td>MM</td><td>MM</td><td>MM</td></tr>\n",
       "<tr><td>8</td><td>FILTER FILTERi</td><td>MM</td><td>MM</td><td>MM</td><td>MM</td><td>NA</td><td>NA</td><td>NA</td><td>MM</td><td>MA35</td><td>MA35</td><td>MA35</td></tr>\n",
       "<tr><td>9</td><td>OBJECT</td><td>MM</td><td>MM</td><td>MM</td><td>MM</td><td>MM</td><td>MM</td><td>MM</td><td>MM</td><td>MM</td><td>MM</td><td>MM</td></tr>\n",
       "<tr><td>...</td><td>...</td><td>...</td><td>...</td><td>...</td><td>...</td><td>...</td><td>...</td><td>...</td><td>...</td><td>...</td><td>...</td><td>...</td></tr>\n",
       "<tr><td>120</td><td>TUTYPi</td><td>NA</td><td>NA</td><td>NA</td><td>NA</td><td>M62</td><td>NA</td><td>NA</td><td>NA</td><td>NA</td><td>NA</td><td>NA</td></tr>\n",
       "<tr><td>121</td><td>TUCDi</td><td>NA</td><td>NA</td><td>NA</td><td>NA</td><td>MM</td><td>NA</td><td>OP</td><td>OP</td><td>MM</td><td>MM</td><td>MM</td></tr>\n",
       "<tr><td>122</td><td>TDMINi</td><td>NA</td><td>NA</td><td>NA</td><td>NA</td><td>MA63</td><td>NA</td><td>OP</td><td>OP</td><td>OP</td><td>OP</td><td>OP</td></tr>\n",
       "<tr><td>123</td><td>TDMAXi</td><td>NA</td><td>NA</td><td>NA</td><td>NA</td><td>MA63</td><td>NA</td><td>OP</td><td>OP</td><td>OP</td><td>OP</td><td>OP</td></tr>\n",
       "<tr><td>124</td><td>TNULLi</td><td>NA</td><td>NA</td><td>NA</td><td>NA</td><td>NA</td><td>NA</td><td>OP</td><td>OP</td><td>MA64</td><td>MA64</td><td>MA64</td></tr>\n",
       "<tr><td>125</td><td>EXTNAME</td><td>MA65</td><td>MA65</td><td>MA65</td><td>MA65</td><td>MA65</td><td>MA65</td><td>MA65</td><td>MA65</td><td>MA65</td><td>MA65</td><td>MA65</td></tr>\n",
       "<tr><td>126</td><td>TZEROi</td><td>NA</td><td>NA</td><td>NA</td><td>NA</td><td>NA</td><td>NA</td><td>NA</td><td>NA</td><td>NO</td><td>NO</td><td>NO</td></tr>\n",
       "<tr><td>127</td><td>TSCALi</td><td>NA</td><td>NA</td><td>NA</td><td>NA</td><td>NA</td><td>NA</td><td>NA</td><td>NA</td><td>NO</td><td>NO</td><td>NO</td></tr>\n",
       "<tr><td>128</td><td>EXTVER</td><td>NA</td><td>NA</td><td>NA</td><td>NA</td><td>NA</td><td>NA</td><td>NA</td><td>NA</td><td>NO</td><td>NO</td><td>NO</td></tr>\n",
       "<tr><td>129</td><td>EXTLEVEL</td><td>NA</td><td>NA</td><td>NA</td><td>NA</td><td>NA</td><td>NA</td><td>NA</td><td>NA</td><td>NO</td><td>NO</td><td>NO</td></tr>\n",
       "</table></div>"
      ],
      "text/plain": [
       "<Table length=126>\n",
       "  #     Column Name    IMAGE (single) ... MCATALOG CATALOGTILE CATALOG\n",
       "int64      str18           str16      ...  str10      str13     str12 \n",
       "----- ---------------- -------------- ... -------- ----------- -------\n",
       "    1         PRODCATG             MM ...       MM          MM      MM\n",
       "    2           ASSOCi           MA31 ...       NA        MA31    MA31\n",
       "    3           ASSONi           MA32 ...       NA        MA32    MA32\n",
       "    4           ASSOMi           MA31 ...       NA        MA31    MA31\n",
       "    5           ORIGIN             MM ...       MM          MM      MM\n",
       "    6 TELESCOP TELESCi             MM ...       MM          MM      MM\n",
       "    7  INSTRUME INSTRi             MM ...       MM          MM      MM\n",
       "    8   FILTER FILTERi             MM ...     MA35        MA35    MA35\n",
       "    9           OBJECT             MM ...       MM          MM      MM\n",
       "  ...              ...            ... ...      ...         ...     ...\n",
       "  120           TUTYPi             NA ...       NA          NA      NA\n",
       "  121            TUCDi             NA ...       MM          MM      MM\n",
       "  122           TDMINi             NA ...       OP          OP      OP\n",
       "  123           TDMAXi             NA ...       OP          OP      OP\n",
       "  124           TNULLi             NA ...     MA64        MA64    MA64\n",
       "  125          EXTNAME           MA65 ...     MA65        MA65    MA65\n",
       "  126           TZEROi             NA ...       NO          NO      NO\n",
       "  127           TSCALi             NA ...       NO          NO      NO\n",
       "  128           EXTVER             NA ...       NO          NO      NO\n",
       "  129         EXTLEVEL             NA ...       NO          NO      NO"
      ]
     },
     "execution_count": 80,
     "metadata": {},
     "output_type": "execute_result"
    }
   ],
   "source": [
    "table_stack = vstack([table_all, table])\n",
    "table_stack"
   ]
  },
  {
   "cell_type": "code",
   "execution_count": 92,
   "metadata": {},
   "outputs": [],
   "source": [
    "table_stack.write(f\"{dir_table}table_fixedwidth_all.csv\", format='ascii.fixed_width', overwrite=True)\n",
    "# table_stack.write(f\"{dir_table}table_fixedwidth_all.csv\", format='ascii.fast_csv', overwrite=True)"
   ]
  },
  {
   "cell_type": "code",
   "execution_count": 93,
   "metadata": {},
   "outputs": [],
   "source": [
    "file_primary = f\"{dir_table}table_fixedwidth_primary.csv\"\n",
    "file_extension = f\"{dir_table}table_fixedwidth_extension.csv\"\n",
    "\n",
    "table_primary = Table.read(file_primary, format='ascii.fixed_width')\n",
    "table_extension = Table.read(file_extension, format='ascii.fixed_width')\n",
    "\n",
    "table_primary = table_primary[1:]\n",
    "table_extension = table_extension[1:]\n",
    "\n",
    "table_primary.write(f\"{dir_table}table_fixedwidth_primary_.csv\", format='ascii.fixed_width', overwrite=True)\n",
    "table_extension.write(f\"{dir_table}table_fixedwidth_extension_.csv\", format='ascii.fixed_width', overwrite=True)"
   ]
  },
  {
   "cell_type": "code",
   "execution_count": 95,
   "metadata": {},
   "outputs": [],
   "source": [
    "dir_table = \"./../tables/\"\n",
    "\n",
    "file_primary = f\"{dir_table}table_fixedwidth_primary.csv\"\n",
    "file_extension = f\"{dir_table}table_fixedwidth_extension.csv\"\n",
    "\n",
    "table_primary = Table.read(file_primary, format='ascii.fixed_width')\n",
    "table_extension = Table.read(file_extension, format='ascii.fixed_width')\n",
    "\n",
    "table_primary.write(f\"{dir_table}table_primary.csv\", format='csv', overwrite=True)\n",
    "table_extension.write(f\"{dir_table}table_extension.csv\", format='csv', overwrite=True)"
   ]
  },
  {
   "cell_type": "code",
   "execution_count": null,
   "metadata": {},
   "outputs": [],
   "source": []
  }
 ],
 "metadata": {
  "kernelspec": {
   "display_name": "base",
   "language": "python",
   "name": "python3"
  },
  "language_info": {
   "codemirror_mode": {
    "name": "ipython",
    "version": 3
   },
   "file_extension": ".py",
   "mimetype": "text/x-python",
   "name": "python",
   "nbconvert_exporter": "python",
   "pygments_lexer": "ipython3",
   "version": "3.12.7"
  }
 },
 "nbformat": 4,
 "nbformat_minor": 2
}
