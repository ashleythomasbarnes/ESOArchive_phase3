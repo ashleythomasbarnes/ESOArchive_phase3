{
 "cells": [
  {
   "cell_type": "code",
   "execution_count": 7,
   "id": "e81321ee",
   "metadata": {},
   "outputs": [],
   "source": [
    "from astropy import units as u\n",
    "from astropy.table import Table\n",
    "import numpy as np"
   ]
  },
  {
   "cell_type": "code",
   "execution_count": 5,
   "id": "c56198bd",
   "metadata": {},
   "outputs": [],
   "source": [
    "t_p = Table.read(\"./table_primary.csv\")\n",
    "t_s = Table.read(\"./table_extension.csv\")"
   ]
  },
  {
   "cell_type": "code",
   "execution_count": 21,
   "id": "a1ba8f7b",
   "metadata": {},
   "outputs": [
    {
     "ename": "ValueError",
     "evalue": "setting an array element with a sequence. The requested array has an inhomogeneous shape after 1 dimensions. The detected shape was (2,) + inhomogeneous part.",
     "output_type": "error",
     "traceback": [
      "\u001b[0;31m---------------------------------------------------------------------------\u001b[0m",
      "\u001b[0;31mValueError\u001b[0m                                Traceback (most recent call last)",
      "Cell \u001b[0;32mIn[21], line 1\u001b[0m\n\u001b[0;32m----> 1\u001b[0m column_names \u001b[38;5;241m=\u001b[39m np\u001b[38;5;241m.\u001b[39munique((t_p[\u001b[38;5;124m'\u001b[39m\u001b[38;5;124mColumn Name\u001b[39m\u001b[38;5;124m'\u001b[39m]\u001b[38;5;241m.\u001b[39mvalue, t_s[\u001b[38;5;124m'\u001b[39m\u001b[38;5;124mColumn Name\u001b[39m\u001b[38;5;124m'\u001b[39m]\u001b[38;5;241m.\u001b[39mvalue))\n\u001b[1;32m      2\u001b[0m column_names\n",
      "File \u001b[0;32m/opt/anaconda3/lib/python3.12/site-packages/numpy/lib/arraysetops.py:272\u001b[0m, in \u001b[0;36munique\u001b[0;34m(ar, return_index, return_inverse, return_counts, axis, equal_nan)\u001b[0m\n\u001b[1;32m    138\u001b[0m \u001b[38;5;129m@array_function_dispatch\u001b[39m(_unique_dispatcher)\n\u001b[1;32m    139\u001b[0m \u001b[38;5;28;01mdef\u001b[39;00m \u001b[38;5;21munique\u001b[39m(ar, return_index\u001b[38;5;241m=\u001b[39m\u001b[38;5;28;01mFalse\u001b[39;00m, return_inverse\u001b[38;5;241m=\u001b[39m\u001b[38;5;28;01mFalse\u001b[39;00m,\n\u001b[1;32m    140\u001b[0m            return_counts\u001b[38;5;241m=\u001b[39m\u001b[38;5;28;01mFalse\u001b[39;00m, axis\u001b[38;5;241m=\u001b[39m\u001b[38;5;28;01mNone\u001b[39;00m, \u001b[38;5;241m*\u001b[39m, equal_nan\u001b[38;5;241m=\u001b[39m\u001b[38;5;28;01mTrue\u001b[39;00m):\n\u001b[1;32m    141\u001b[0m \u001b[38;5;250m    \u001b[39m\u001b[38;5;124;03m\"\"\"\u001b[39;00m\n\u001b[1;32m    142\u001b[0m \u001b[38;5;124;03m    Find the unique elements of an array.\u001b[39;00m\n\u001b[1;32m    143\u001b[0m \n\u001b[0;32m   (...)\u001b[0m\n\u001b[1;32m    270\u001b[0m \n\u001b[1;32m    271\u001b[0m \u001b[38;5;124;03m    \"\"\"\u001b[39;00m\n\u001b[0;32m--> 272\u001b[0m     ar \u001b[38;5;241m=\u001b[39m np\u001b[38;5;241m.\u001b[39masanyarray(ar)\n\u001b[1;32m    273\u001b[0m     \u001b[38;5;28;01mif\u001b[39;00m axis \u001b[38;5;129;01mis\u001b[39;00m \u001b[38;5;28;01mNone\u001b[39;00m:\n\u001b[1;32m    274\u001b[0m         ret \u001b[38;5;241m=\u001b[39m _unique1d(ar, return_index, return_inverse, return_counts, \n\u001b[1;32m    275\u001b[0m                         equal_nan\u001b[38;5;241m=\u001b[39mequal_nan)\n",
      "\u001b[0;31mValueError\u001b[0m: setting an array element with a sequence. The requested array has an inhomogeneous shape after 1 dimensions. The detected shape was (2,) + inhomogeneous part."
     ]
    }
   ],
   "source": [
    "column_names = np.unique((t_p['Column Name'].value, t_s['Column Name'].value))\n",
    "column_names"
   ]
  },
  {
   "cell_type": "code",
   "execution_count": 22,
   "id": "2b13caa3",
   "metadata": {},
   "outputs": [
    {
     "data": {
      "text/plain": [
       "array(['PRODCATG', 'ASSOCi', 'ASSONi', 'ASSOMi', 'ORIGIN',\n",
       "       'TELESCOP TELESCi', 'INSTRUME INSTRi', 'FILTER FILTERi', 'OBJECT',\n",
       "       'RA DEC', 'EQUINOX', 'RADESYS', 'TIMESYS', 'EXPTIME', 'TEXPTIME',\n",
       "       'MJD-OBS', 'MJD-END', 'PROG_ID PROGIDi', 'OBIDi', 'NCOMBINE',\n",
       "       'OBSTECH', 'FLUXCAL', 'PROCSOFT', 'REFERENC', 'PROVi PROVXTN',\n",
       "       'BUNIT', 'GAIN', 'DETRON', 'EFFRON', 'WEIGHT', 'CRVALi', 'CRPIXi',\n",
       "       'CTYPEi', 'CUNITi', 'CDi_j', 'CSYERi', 'CRDERi', 'PHOTZP',\n",
       "       'PHOTZPER', 'PHOTSYS', 'SPECSYS', 'EXT_OBJ', 'CONTNORM',\n",
       "       'TOT_FLUX', 'FLUXERR', 'WAVELMIN', 'WAVELMAX', 'LAMRMS', 'LAMNLIN',\n",
       "       'SPEC_BIN', 'SPEC_ERR', 'SPEC_SYE', 'RA_ERR', 'DEC_ERR', 'NELEM',\n",
       "       'VOCLASS', 'VOPUB', 'TITLE', 'APERTURE', 'TELAPSE', 'TMID',\n",
       "       'SPEC_VAL', 'SPEC_BW', 'BNOISE', 'MAPMODE', 'FEBEi', 'CONTENT',\n",
       "       'INSMODE', 'VIS2ERR', 'T3PHIERR', 'STOKES', 'HDUCLASS', 'HDUCLASi',\n",
       "       'HDUDOC', 'HDUVERS', 'SCIDATA', 'ERRDATA', 'QUALDATA', 'CONFDATA',\n",
       "       'BKGDATA', 'BKGERR', 'BKGCONF', 'ABMAGLIM', 'PIXNOISE', 'MAGLIMi',\n",
       "       'ABMAGSAT', 'PSF_FWHM', 'ELLIPTIC', 'SNR', 'SPEC_RES', 'SKY_RES',\n",
       "       'SKY_RERR', 'STREHL', 'ARCFILE', 'CHECKSUM', 'DATASUM', 'ORIGFILE',\n",
       "       'P3ORIG', 'NDIT', 'NJITTER', 'NOFFSETS', 'NUSTEP', 'FPRAia',\n",
       "       'FPDEia', 'SKYSQDEG', 'M_EPOCH', 'APMATCHD', 'TXLNKi', 'TXRGF',\n",
       "       'TXCTY', 'NOESODAT', 'TZEROi', 'TSCALi', 'EXTVER', 'EXTLEVEL'],\n",
       "      dtype='<U16')"
      ]
     },
     "execution_count": 22,
     "metadata": {},
     "output_type": "execute_result"
    }
   ],
   "source": [
    "t_p['Column Name'].value"
   ]
  },
  {
   "cell_type": "code",
   "execution_count": null,
   "id": "1d7db301",
   "metadata": {},
   "outputs": [],
   "source": []
  }
 ],
 "metadata": {
  "kernelspec": {
   "display_name": "base",
   "language": "python",
   "name": "python3"
  },
  "language_info": {
   "codemirror_mode": {
    "name": "ipython",
    "version": 3
   },
   "file_extension": ".py",
   "mimetype": "text/x-python",
   "name": "python",
   "nbconvert_exporter": "python",
   "pygments_lexer": "ipython3",
   "version": "3.12.7"
  }
 },
 "nbformat": 4,
 "nbformat_minor": 5
}
