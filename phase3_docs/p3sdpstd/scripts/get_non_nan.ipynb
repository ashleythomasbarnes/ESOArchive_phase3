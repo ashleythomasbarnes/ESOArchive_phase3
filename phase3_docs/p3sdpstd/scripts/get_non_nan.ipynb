{
 "cells": [
  {
   "cell_type": "code",
   "execution_count": 3,
   "metadata": {},
   "outputs": [],
   "source": [
    "from astropy.table import Table "
   ]
  },
  {
   "cell_type": "code",
   "execution_count": 4,
   "metadata": {},
   "outputs": [],
   "source": [
    "dir_table = \"./../tables/\"\n",
    "file_primary = f\"{dir_table}table_fixedwidth_primary.csv\"\n",
    "file_extension = f\"{dir_table}table_fixedwidth_extension.csv\""
   ]
  },
  {
   "cell_type": "code",
   "execution_count": 5,
   "metadata": {},
   "outputs": [],
   "source": [
    "table_primary = Table.read(file_primary, format='ascii.fixed_width_no_header')\n",
    "table_extension = Table.read(file_extension, format='ascii.fixed_width_no_header')"
   ]
  },
  {
   "cell_type": "code",
   "execution_count": 6,
   "metadata": {},
   "outputs": [],
   "source": [
    "def fix_formatting(table):\n",
    "    for col in table.colnames: \n",
    "        table[col].name = table[col][0]\n",
    "    table.remove_rows([0,1])\n",
    "    return table\n",
    "\n",
    "table_primary = fix_formatting(table_primary)\n",
    "table_extension = fix_formatting(table_extension)"
   ]
  },
  {
   "cell_type": "code",
   "execution_count": 7,
   "metadata": {},
   "outputs": [],
   "source": [
    "table_primary.write(f\"{dir_table}table_primary.csv\", format='ascii.csv', overwrite=True)\n",
    "table_extension.write(f\"{dir_table}table_extension.csv\", format='ascii.csv', overwrite=True)"
   ]
  },
  {
   "cell_type": "code",
   "execution_count": 9,
   "metadata": {},
   "outputs": [
    {
     "name": "stdout",
     "output_type": "stream",
     "text": [
      "------------------------------\n",
      "SPECTRUM - Primary HDU\n",
      "------------------------------\n",
      "PRODCATG MM\n",
      "ASSOCi MA31\n",
      "ASSONi MA32\n",
      "ASSOMi MA31\n",
      "ORIGIN MM\n",
      "TELESCOP TELESCi MM\n",
      "INSTRUME INSTRi MM\n",
      "OBJECT MM\n",
      "RA DEC MM\n",
      "EQUINOX MA37\n",
      "RADESYS MM\n",
      "TIMESYS MA38\n",
      "EXPTIME MM\n",
      "TEXPTIME MM\n",
      "MJD-OBS MM\n",
      "MJD-END MM\n",
      "PROG_ID PROGIDi ME\n",
      "OBIDi ME\n",
      "NCOMBINE ME\n",
      "OBSTECH MM\n",
      "FLUXCAL MM\n",
      "PROCSOFT MM\n",
      "REFERENC M40\n",
      "PROVi PROVXTN ME\n",
      "BUNIT NO\n",
      "CDi_j NO\n",
      "SPECSYS MM\n",
      "EXT_OBJ MA42\n",
      "CONTNORM MM\n",
      "TOT_FLUX MM\n",
      "FLUXERR M43\n",
      "WAVELMIN MM\n",
      "WAVELMAX MM\n",
      "LAMRMS OP\n",
      "LAMNLIN OP\n",
      "SPEC_BIN MM\n",
      "SPEC_ERR RC\n",
      "SPEC_SYE RC\n",
      "RA_ERR RC\n",
      "DEC_ERR RC\n",
      "STOKES SU\n",
      "SNR MM\n",
      "SPEC_RES MM\n",
      "STREHL MA51\n",
      "ARCFILE RE\n",
      "CHECKSUM MM\n",
      "DATASUM MM\n",
      "ORIGFILE RE\n",
      "P3ORIG RE\n",
      "------------------------------\n",
      "\n",
      "------------------------------\n",
      "SPECTRUM - Extension HDU\n",
      "------------------------------\n",
      "RA DEC MM\n",
      "NELEM MM\n",
      "VOCLASS MM\n",
      "VOPUB MM\n",
      "TITLE MM\n",
      "APERTURE MM\n",
      "TELAPSE MM\n",
      "TMID MM\n",
      "SPEC_VAL MM\n",
      "SPEC_BW MM\n",
      "ARCFILE RE\n",
      "CHECKSUM MM\n",
      "DATASUM MM\n",
      "ORIGFILE RE\n",
      "P3ORIG RE\n",
      "------------------------------\n",
      "\n"
     ]
    }
   ],
   "source": [
    "def get_values(product_name, table_primary, table_extension):\n",
    "\n",
    "    print(\"------------------------------\")\n",
    "    print(f\"{product_name} - Primary HDU\")\n",
    "    print(\"------------------------------\")\n",
    "\n",
    "    table_crop = table_primary['Column Name', product_name]\n",
    "    for i in range(len(table_crop)):\n",
    "        value = table_crop[table_crop.colnames[-1]][i]\n",
    "        name = table_crop[table_crop.colnames[0]][i]\n",
    "        if value != 'NA': \n",
    "            print(f\"{name} {value}\")\n",
    "\n",
    "    print(\"------------------------------\\n\")\n",
    "\n",
    "    print(\"------------------------------\")\n",
    "    print(f\"{product_name} - Extension HDU\")\n",
    "    print(\"------------------------------\")\n",
    "\n",
    "    table_crop = table_extension['Column Name', product_name]\n",
    "    for i in range(len(table_crop)):\n",
    "        value = table_crop[table_crop.colnames[-1]][i]\n",
    "        name = table_crop[table_crop.colnames[0]][i]\n",
    "        if value != 'NA': \n",
    "            print(f\"{name} {value}\")\n",
    "\n",
    "    print(\"------------------------------\\n\")\n",
    "\n",
    "# get_values('IMAGE (single)', table_primary, table_extension)\n",
    "# get_values('IMAGE.FLUXMAP', table_primary, table_extension)\n",
    "get_values('SPECTRUM', table_primary, table_extension)"
   ]
  },
  {
   "cell_type": "code",
   "execution_count": null,
   "metadata": {},
   "outputs": [],
   "source": []
  }
 ],
 "metadata": {
  "kernelspec": {
   "display_name": "base",
   "language": "python",
   "name": "python3"
  },
  "language_info": {
   "codemirror_mode": {
    "name": "ipython",
    "version": 3
   },
   "file_extension": ".py",
   "mimetype": "text/x-python",
   "name": "python",
   "nbconvert_exporter": "python",
   "pygments_lexer": "ipython3",
   "version": "3.12.7"
  }
 },
 "nbformat": 4,
 "nbformat_minor": 2
}
